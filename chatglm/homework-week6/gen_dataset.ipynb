{
  "cells": [
    {
      "cell_type": "markdown",
      "id": "38dde73f-01ab-42e1-9e6e-4ba5f18e0623",
      "metadata": {
        "id": "38dde73f-01ab-42e1-9e6e-4ba5f18e0623"
      },
      "source": [
        "# 构造微调训练数据集\n",
        "\n",
        "借助 ChatGPT 和 GPT API 我们可以实现自动化批量构造训练数据集。\n",
        "\n",
        "下面我们以中国古典哲学数据集为例，展示了自动构造训练集的主要流程：\n",
        "\n",
        "- 使用 LangChain 构造训练数据样例\n",
        "    - 基于 ChatGPT 设计 `System Role` 提示词\n",
        "    - 使用 `OpenAI GPT-3.5-Turbo-1106` 生成基础数据\n",
        "    - 解析 OpenAI GPT 生成的训练数据\n",
        "    - 持久化存储`dataset.csv`训练数据集文件\n",
        "    - 使用 ChatGPT 实现训练数据多样化\n",
        "- 自动化批量生成训练数据集\n",
        "    - 整理收集原始数据`raw_data.txt`\n",
        "    - 自动解析原始数据样例 `raw_data_content[]`\n",
        "    - 设计 `gen_data` 训练数据生成器函数\n",
        "    - 设计训练数据生成流水线\n",
        "\n",
        "最佳实践参考：\n",
        "\n",
        "- 使用 GPT-3.5 生成基础数据：https://platform.openai.com/playground/p/2c7XNPgo6Y2iDxILiWfD3iPu?model=gpt-3.5-turbo-1106&mode=chat\n",
        "- 使用 ChatGPT 生成数据处理代码和相关文本整理：https://chat.openai.com/share/cdfd2d1d-a75e-4cee-be49-539c010ca1b1\n",
        "- GPT API 价格: https://openai.com/pricing"
      ]
    },
    {
      "cell_type": "markdown",
      "id": "18380fa5-6b34-44eb-ba8c-f4fc7ff41e9c",
      "metadata": {
        "id": "18380fa5-6b34-44eb-ba8c-f4fc7ff41e9c",
        "jp-MarkdownHeadingCollapsed": true
      },
      "source": [
        "## 使用 OpenAI \bSDk 构造训练数据"
      ]
    },
    {
      "cell_type": "code",
      "execution_count": 37,
      "id": "L4mOLDsdI8vR",
      "metadata": {
        "colab": {
          "base_uri": "https://localhost:8080/"
        },
        "id": "L4mOLDsdI8vR",
        "outputId": "ee7d16a7-ff38-493d-929b-7adb9d466106"
      },
      "outputs": [
        {
          "name": "stdout",
          "output_type": "stream",
          "text": [
            "Mounted at /content/drive\n"
          ]
        }
      ],
      "source": [
        "from google.colab import drive\n",
        "drive.mount('/content/drive', force_remount=True)"
      ]
    },
    {
      "cell_type": "code",
      "execution_count": null,
      "id": "ROXhJvdznvws",
      "metadata": {
        "id": "ROXhJvdznvws"
      },
      "outputs": [],
      "source": []
    },
    {
      "cell_type": "code",
      "execution_count": 38,
      "id": "KPL1fLzanKYn",
      "metadata": {
        "colab": {
          "base_uri": "https://localhost:8080/",
          "height": 90
        },
        "id": "KPL1fLzanKYn",
        "outputId": "191bbc5f-af7d-4863-df77-492e09f5c0ce"
      },
      "outputs": [
        {
          "data": {
            "text/html": [
              "\n",
              "     <input type=\"file\" id=\"files-9921c092-c069-486c-9d32-27198eb71611\" name=\"files[]\" multiple disabled\n",
              "        style=\"border:none\" />\n",
              "     <output id=\"result-9921c092-c069-486c-9d32-27198eb71611\">\n",
              "      Upload widget is only available when the cell has been executed in the\n",
              "      current browser session. Please rerun this cell to enable.\n",
              "      </output>\n",
              "      <script>// Copyright 2017 Google LLC\n",
              "//\n",
              "// Licensed under the Apache License, Version 2.0 (the \"License\");\n",
              "// you may not use this file except in compliance with the License.\n",
              "// You may obtain a copy of the License at\n",
              "//\n",
              "//      http://www.apache.org/licenses/LICENSE-2.0\n",
              "//\n",
              "// Unless required by applicable law or agreed to in writing, software\n",
              "// distributed under the License is distributed on an \"AS IS\" BASIS,\n",
              "// WITHOUT WARRANTIES OR CONDITIONS OF ANY KIND, either express or implied.\n",
              "// See the License for the specific language governing permissions and\n",
              "// limitations under the License.\n",
              "\n",
              "/**\n",
              " * @fileoverview Helpers for google.colab Python module.\n",
              " */\n",
              "(function(scope) {\n",
              "function span(text, styleAttributes = {}) {\n",
              "  const element = document.createElement('span');\n",
              "  element.textContent = text;\n",
              "  for (const key of Object.keys(styleAttributes)) {\n",
              "    element.style[key] = styleAttributes[key];\n",
              "  }\n",
              "  return element;\n",
              "}\n",
              "\n",
              "// Max number of bytes which will be uploaded at a time.\n",
              "const MAX_PAYLOAD_SIZE = 100 * 1024;\n",
              "\n",
              "function _uploadFiles(inputId, outputId) {\n",
              "  const steps = uploadFilesStep(inputId, outputId);\n",
              "  const outputElement = document.getElementById(outputId);\n",
              "  // Cache steps on the outputElement to make it available for the next call\n",
              "  // to uploadFilesContinue from Python.\n",
              "  outputElement.steps = steps;\n",
              "\n",
              "  return _uploadFilesContinue(outputId);\n",
              "}\n",
              "\n",
              "// This is roughly an async generator (not supported in the browser yet),\n",
              "// where there are multiple asynchronous steps and the Python side is going\n",
              "// to poll for completion of each step.\n",
              "// This uses a Promise to block the python side on completion of each step,\n",
              "// then passes the result of the previous step as the input to the next step.\n",
              "function _uploadFilesContinue(outputId) {\n",
              "  const outputElement = document.getElementById(outputId);\n",
              "  const steps = outputElement.steps;\n",
              "\n",
              "  const next = steps.next(outputElement.lastPromiseValue);\n",
              "  return Promise.resolve(next.value.promise).then((value) => {\n",
              "    // Cache the last promise value to make it available to the next\n",
              "    // step of the generator.\n",
              "    outputElement.lastPromiseValue = value;\n",
              "    return next.value.response;\n",
              "  });\n",
              "}\n",
              "\n",
              "/**\n",
              " * Generator function which is called between each async step of the upload\n",
              " * process.\n",
              " * @param {string} inputId Element ID of the input file picker element.\n",
              " * @param {string} outputId Element ID of the output display.\n",
              " * @return {!Iterable<!Object>} Iterable of next steps.\n",
              " */\n",
              "function* uploadFilesStep(inputId, outputId) {\n",
              "  const inputElement = document.getElementById(inputId);\n",
              "  inputElement.disabled = false;\n",
              "\n",
              "  const outputElement = document.getElementById(outputId);\n",
              "  outputElement.innerHTML = '';\n",
              "\n",
              "  const pickedPromise = new Promise((resolve) => {\n",
              "    inputElement.addEventListener('change', (e) => {\n",
              "      resolve(e.target.files);\n",
              "    });\n",
              "  });\n",
              "\n",
              "  const cancel = document.createElement('button');\n",
              "  inputElement.parentElement.appendChild(cancel);\n",
              "  cancel.textContent = 'Cancel upload';\n",
              "  const cancelPromise = new Promise((resolve) => {\n",
              "    cancel.onclick = () => {\n",
              "      resolve(null);\n",
              "    };\n",
              "  });\n",
              "\n",
              "  // Wait for the user to pick the files.\n",
              "  const files = yield {\n",
              "    promise: Promise.race([pickedPromise, cancelPromise]),\n",
              "    response: {\n",
              "      action: 'starting',\n",
              "    }\n",
              "  };\n",
              "\n",
              "  cancel.remove();\n",
              "\n",
              "  // Disable the input element since further picks are not allowed.\n",
              "  inputElement.disabled = true;\n",
              "\n",
              "  if (!files) {\n",
              "    return {\n",
              "      response: {\n",
              "        action: 'complete',\n",
              "      }\n",
              "    };\n",
              "  }\n",
              "\n",
              "  for (const file of files) {\n",
              "    const li = document.createElement('li');\n",
              "    li.append(span(file.name, {fontWeight: 'bold'}));\n",
              "    li.append(span(\n",
              "        `(${file.type || 'n/a'}) - ${file.size} bytes, ` +\n",
              "        `last modified: ${\n",
              "            file.lastModifiedDate ? file.lastModifiedDate.toLocaleDateString() :\n",
              "                                    'n/a'} - `));\n",
              "    const percent = span('0% done');\n",
              "    li.appendChild(percent);\n",
              "\n",
              "    outputElement.appendChild(li);\n",
              "\n",
              "    const fileDataPromise = new Promise((resolve) => {\n",
              "      const reader = new FileReader();\n",
              "      reader.onload = (e) => {\n",
              "        resolve(e.target.result);\n",
              "      };\n",
              "      reader.readAsArrayBuffer(file);\n",
              "    });\n",
              "    // Wait for the data to be ready.\n",
              "    let fileData = yield {\n",
              "      promise: fileDataPromise,\n",
              "      response: {\n",
              "        action: 'continue',\n",
              "      }\n",
              "    };\n",
              "\n",
              "    // Use a chunked sending to avoid message size limits. See b/62115660.\n",
              "    let position = 0;\n",
              "    do {\n",
              "      const length = Math.min(fileData.byteLength - position, MAX_PAYLOAD_SIZE);\n",
              "      const chunk = new Uint8Array(fileData, position, length);\n",
              "      position += length;\n",
              "\n",
              "      const base64 = btoa(String.fromCharCode.apply(null, chunk));\n",
              "      yield {\n",
              "        response: {\n",
              "          action: 'append',\n",
              "          file: file.name,\n",
              "          data: base64,\n",
              "        },\n",
              "      };\n",
              "\n",
              "      let percentDone = fileData.byteLength === 0 ?\n",
              "          100 :\n",
              "          Math.round((position / fileData.byteLength) * 100);\n",
              "      percent.textContent = `${percentDone}% done`;\n",
              "\n",
              "    } while (position < fileData.byteLength);\n",
              "  }\n",
              "\n",
              "  // All done.\n",
              "  yield {\n",
              "    response: {\n",
              "      action: 'complete',\n",
              "    }\n",
              "  };\n",
              "}\n",
              "\n",
              "scope.google = scope.google || {};\n",
              "scope.google.colab = scope.google.colab || {};\n",
              "scope.google.colab._files = {\n",
              "  _uploadFiles,\n",
              "  _uploadFilesContinue,\n",
              "};\n",
              "})(self);\n",
              "</script> "
            ],
            "text/plain": [
              "<IPython.core.display.HTML object>"
            ]
          },
          "metadata": {},
          "output_type": "display_data"
        },
        {
          "name": "stdout",
          "output_type": "stream",
          "text": [
            "Saving requirements.txt to requirements (1).txt\n",
            "User uploaded file \"requirements (1).txt\" with length 226 bytes\n"
          ]
        }
      ],
      "source": [
        "from google.colab import files\n",
        "\n",
        "uploaded = files.upload()\n",
        "\n",
        "for fn in uploaded.keys():\n",
        "  print('User uploaded file \"{name}\" with length {length} bytes'.format(\n",
        "      name=fn, length=len(uploaded[fn])))"
      ]
    },
    {
      "cell_type": "code",
      "execution_count": 39,
      "id": "cetqN08tnQAA",
      "metadata": {
        "colab": {
          "base_uri": "https://localhost:8080/"
        },
        "id": "cetqN08tnQAA",
        "outputId": "1e34feac-efac-4d0d-e17c-ee50a6566a9e"
      },
      "outputs": [
        {
          "name": "stdout",
          "output_type": "stream",
          "text": [
            "Requirement already satisfied: torch>=2.1.2 in /usr/local/lib/python3.10/dist-packages (from -r requirements.txt (line 1)) (2.2.0)\n",
            "Requirement already satisfied: transformers in /usr/local/lib/python3.10/dist-packages (from -r requirements.txt (line 2)) (4.35.2)\n",
            "Requirement already satisfied: ffmpeg in /usr/local/lib/python3.10/dist-packages (from -r requirements.txt (line 3)) (1.4)\n",
            "Requirement already satisfied: ffmpeg-python in /usr/local/lib/python3.10/dist-packages (from -r requirements.txt (line 4)) (0.2.0)\n",
            "Requirement already satisfied: timm in /usr/local/lib/python3.10/dist-packages (from -r requirements.txt (line 5)) (0.9.12)\n",
            "Requirement already satisfied: datasets in /usr/local/lib/python3.10/dist-packages (from -r requirements.txt (line 6)) (2.16.1)\n",
            "Requirement already satisfied: evaluate in /usr/local/lib/python3.10/dist-packages (from -r requirements.txt (line 7)) (0.4.1)\n",
            "Requirement already satisfied: scikit-learn in /usr/local/lib/python3.10/dist-packages (from -r requirements.txt (line 8)) (1.2.2)\n",
            "Requirement already satisfied: pandas in /usr/local/lib/python3.10/dist-packages (from -r requirements.txt (line 9)) (1.5.3)\n",
            "Requirement already satisfied: peft in /usr/local/lib/python3.10/dist-packages (from -r requirements.txt (line 10)) (0.8.2)\n",
            "Requirement already satisfied: accelerate in /usr/local/lib/python3.10/dist-packages (from -r requirements.txt (line 11)) (0.26.1)\n",
            "Requirement already satisfied: autoawq==0.1.7 in /usr/local/lib/python3.10/dist-packages (from -r requirements.txt (line 12)) (0.1.7)\n",
            "Requirement already satisfied: optimum in /usr/local/lib/python3.10/dist-packages (from -r requirements.txt (line 13)) (1.16.2)\n",
            "Requirement already satisfied: auto-gptq in /usr/local/lib/python3.10/dist-packages (from -r requirements.txt (line 14)) (0.6.0)\n",
            "Requirement already satisfied: bitsandbytes>0.39.0 in /usr/local/lib/python3.10/dist-packages (from -r requirements.txt (line 15)) (0.42.0)\n",
            "Requirement already satisfied: jiwer in /usr/local/lib/python3.10/dist-packages (from -r requirements.txt (line 16)) (3.0.3)\n",
            "Requirement already satisfied: soundfile>=0.12.1 in /usr/local/lib/python3.10/dist-packages (from -r requirements.txt (line 17)) (0.12.1)\n",
            "Requirement already satisfied: librosa in /usr/local/lib/python3.10/dist-packages (from -r requirements.txt (line 18)) (0.10.1)\n",
            "Requirement already satisfied: langchain in /usr/local/lib/python3.10/dist-packages (from -r requirements.txt (line 19)) (0.1.6)\n",
            "Requirement already satisfied: gradio in /usr/local/lib/python3.10/dist-packages (from -r requirements.txt (line 20)) (4.17.0)\n",
            "Requirement already satisfied: tokenizers>=0.12.1 in /usr/local/lib/python3.10/dist-packages (from autoawq==0.1.7->-r requirements.txt (line 12)) (0.15.1)\n",
            "Requirement already satisfied: sentencepiece in /usr/local/lib/python3.10/dist-packages (from autoawq==0.1.7->-r requirements.txt (line 12)) (0.1.99)\n",
            "Requirement already satisfied: lm-eval in /usr/local/lib/python3.10/dist-packages (from autoawq==0.1.7->-r requirements.txt (line 12)) (0.4.1)\n",
            "Requirement already satisfied: texttable in /usr/local/lib/python3.10/dist-packages (from autoawq==0.1.7->-r requirements.txt (line 12)) (1.7.0)\n",
            "Requirement already satisfied: toml in /usr/local/lib/python3.10/dist-packages (from autoawq==0.1.7->-r requirements.txt (line 12)) (0.10.2)\n",
            "Requirement already satisfied: attributedict in /usr/local/lib/python3.10/dist-packages (from autoawq==0.1.7->-r requirements.txt (line 12)) (0.3.0)\n",
            "Requirement already satisfied: protobuf in /usr/local/lib/python3.10/dist-packages (from autoawq==0.1.7->-r requirements.txt (line 12)) (3.20.3)\n",
            "Requirement already satisfied: torchvision in /usr/local/lib/python3.10/dist-packages (from autoawq==0.1.7->-r requirements.txt (line 12)) (0.17.0)\n",
            "Requirement already satisfied: tabulate in /usr/local/lib/python3.10/dist-packages (from autoawq==0.1.7->-r requirements.txt (line 12)) (0.9.0)\n",
            "Requirement already satisfied: filelock in /usr/local/lib/python3.10/dist-packages (from torch>=2.1.2->-r requirements.txt (line 1)) (3.13.1)\n",
            "Requirement already satisfied: typing-extensions>=4.8.0 in /usr/local/lib/python3.10/dist-packages (from torch>=2.1.2->-r requirements.txt (line 1)) (4.9.0)\n",
            "Requirement already satisfied: sympy in /usr/local/lib/python3.10/dist-packages (from torch>=2.1.2->-r requirements.txt (line 1)) (1.12)\n",
            "Requirement already satisfied: networkx in /usr/local/lib/python3.10/dist-packages (from torch>=2.1.2->-r requirements.txt (line 1)) (3.2.1)\n",
            "Requirement already satisfied: jinja2 in /usr/local/lib/python3.10/dist-packages (from torch>=2.1.2->-r requirements.txt (line 1)) (3.1.3)\n",
            "Requirement already satisfied: fsspec in /usr/local/lib/python3.10/dist-packages (from torch>=2.1.2->-r requirements.txt (line 1)) (2023.6.0)\n",
            "Requirement already satisfied: nvidia-cuda-nvrtc-cu12==12.1.105 in /usr/local/lib/python3.10/dist-packages (from torch>=2.1.2->-r requirements.txt (line 1)) (12.1.105)\n",
            "Requirement already satisfied: nvidia-cuda-runtime-cu12==12.1.105 in /usr/local/lib/python3.10/dist-packages (from torch>=2.1.2->-r requirements.txt (line 1)) (12.1.105)\n",
            "Requirement already satisfied: nvidia-cuda-cupti-cu12==12.1.105 in /usr/local/lib/python3.10/dist-packages (from torch>=2.1.2->-r requirements.txt (line 1)) (12.1.105)\n",
            "Requirement already satisfied: nvidia-cudnn-cu12==8.9.2.26 in /usr/local/lib/python3.10/dist-packages (from torch>=2.1.2->-r requirements.txt (line 1)) (8.9.2.26)\n",
            "Requirement already satisfied: nvidia-cublas-cu12==12.1.3.1 in /usr/local/lib/python3.10/dist-packages (from torch>=2.1.2->-r requirements.txt (line 1)) (12.1.3.1)\n",
            "Requirement already satisfied: nvidia-cufft-cu12==11.0.2.54 in /usr/local/lib/python3.10/dist-packages (from torch>=2.1.2->-r requirements.txt (line 1)) (11.0.2.54)\n",
            "Requirement already satisfied: nvidia-curand-cu12==10.3.2.106 in /usr/local/lib/python3.10/dist-packages (from torch>=2.1.2->-r requirements.txt (line 1)) (10.3.2.106)\n",
            "Requirement already satisfied: nvidia-cusolver-cu12==11.4.5.107 in /usr/local/lib/python3.10/dist-packages (from torch>=2.1.2->-r requirements.txt (line 1)) (11.4.5.107)\n",
            "Requirement already satisfied: nvidia-cusparse-cu12==12.1.0.106 in /usr/local/lib/python3.10/dist-packages (from torch>=2.1.2->-r requirements.txt (line 1)) (12.1.0.106)\n",
            "Requirement already satisfied: nvidia-nccl-cu12==2.19.3 in /usr/local/lib/python3.10/dist-packages (from torch>=2.1.2->-r requirements.txt (line 1)) (2.19.3)\n",
            "Requirement already satisfied: nvidia-nvtx-cu12==12.1.105 in /usr/local/lib/python3.10/dist-packages (from torch>=2.1.2->-r requirements.txt (line 1)) (12.1.105)\n",
            "Requirement already satisfied: triton==2.2.0 in /usr/local/lib/python3.10/dist-packages (from torch>=2.1.2->-r requirements.txt (line 1)) (2.2.0)\n",
            "Requirement already satisfied: nvidia-nvjitlink-cu12 in /usr/local/lib/python3.10/dist-packages (from nvidia-cusolver-cu12==11.4.5.107->torch>=2.1.2->-r requirements.txt (line 1)) (12.3.101)\n",
            "Requirement already satisfied: huggingface-hub<1.0,>=0.16.4 in /usr/local/lib/python3.10/dist-packages (from transformers->-r requirements.txt (line 2)) (0.20.3)\n",
            "Requirement already satisfied: numpy>=1.17 in /usr/local/lib/python3.10/dist-packages (from transformers->-r requirements.txt (line 2)) (1.23.5)\n",
            "Requirement already satisfied: packaging>=20.0 in /usr/local/lib/python3.10/dist-packages (from transformers->-r requirements.txt (line 2)) (23.2)\n",
            "Requirement already satisfied: pyyaml>=5.1 in /usr/local/lib/python3.10/dist-packages (from transformers->-r requirements.txt (line 2)) (6.0.1)\n",
            "Requirement already satisfied: regex!=2019.12.17 in /usr/local/lib/python3.10/dist-packages (from transformers->-r requirements.txt (line 2)) (2023.12.25)\n",
            "Requirement already satisfied: requests in /usr/local/lib/python3.10/dist-packages (from transformers->-r requirements.txt (line 2)) (2.31.0)\n",
            "Requirement already satisfied: safetensors>=0.3.1 in /usr/local/lib/python3.10/dist-packages (from transformers->-r requirements.txt (line 2)) (0.4.2)\n",
            "Requirement already satisfied: tqdm>=4.27 in /usr/local/lib/python3.10/dist-packages (from transformers->-r requirements.txt (line 2)) (4.66.1)\n",
            "Requirement already satisfied: future in /usr/local/lib/python3.10/dist-packages (from ffmpeg-python->-r requirements.txt (line 4)) (0.18.3)\n",
            "Requirement already satisfied: pyarrow>=8.0.0 in /usr/local/lib/python3.10/dist-packages (from datasets->-r requirements.txt (line 6)) (10.0.1)\n",
            "Requirement already satisfied: pyarrow-hotfix in /usr/local/lib/python3.10/dist-packages (from datasets->-r requirements.txt (line 6)) (0.6)\n",
            "Requirement already satisfied: dill<0.3.8,>=0.3.0 in /usr/local/lib/python3.10/dist-packages (from datasets->-r requirements.txt (line 6)) (0.3.7)\n",
            "Requirement already satisfied: xxhash in /usr/local/lib/python3.10/dist-packages (from datasets->-r requirements.txt (line 6)) (3.4.1)\n",
            "Requirement already satisfied: multiprocess in /usr/local/lib/python3.10/dist-packages (from datasets->-r requirements.txt (line 6)) (0.70.15)\n",
            "Requirement already satisfied: aiohttp in /usr/local/lib/python3.10/dist-packages (from datasets->-r requirements.txt (line 6)) (3.9.3)\n",
            "Requirement already satisfied: responses<0.19 in /usr/local/lib/python3.10/dist-packages (from evaluate->-r requirements.txt (line 7)) (0.18.0)\n",
            "Requirement already satisfied: scipy>=1.3.2 in /usr/local/lib/python3.10/dist-packages (from scikit-learn->-r requirements.txt (line 8)) (1.11.4)\n",
            "Requirement already satisfied: joblib>=1.1.1 in /usr/local/lib/python3.10/dist-packages (from scikit-learn->-r requirements.txt (line 8)) (1.3.2)\n",
            "Requirement already satisfied: threadpoolctl>=2.0.0 in /usr/local/lib/python3.10/dist-packages (from scikit-learn->-r requirements.txt (line 8)) (3.2.0)\n",
            "Requirement already satisfied: python-dateutil>=2.8.1 in /usr/local/lib/python3.10/dist-packages (from pandas->-r requirements.txt (line 9)) (2.8.2)\n",
            "Requirement already satisfied: pytz>=2020.1 in /usr/local/lib/python3.10/dist-packages (from pandas->-r requirements.txt (line 9)) (2023.4)\n",
            "Requirement already satisfied: psutil in /usr/local/lib/python3.10/dist-packages (from peft->-r requirements.txt (line 10)) (5.9.5)\n",
            "Requirement already satisfied: coloredlogs in /usr/local/lib/python3.10/dist-packages (from optimum->-r requirements.txt (line 13)) (15.0.1)\n",
            "Requirement already satisfied: rouge in /usr/local/lib/python3.10/dist-packages (from auto-gptq->-r requirements.txt (line 14)) (1.0.1)\n",
            "Requirement already satisfied: gekko in /usr/local/lib/python3.10/dist-packages (from auto-gptq->-r requirements.txt (line 14)) (1.0.6)\n",
            "Requirement already satisfied: click<9.0.0,>=8.1.3 in /usr/local/lib/python3.10/dist-packages (from jiwer->-r requirements.txt (line 16)) (8.1.7)\n",
            "Requirement already satisfied: rapidfuzz<4,>=3 in /usr/local/lib/python3.10/dist-packages (from jiwer->-r requirements.txt (line 16)) (3.6.1)\n",
            "Requirement already satisfied: cffi>=1.0 in /usr/local/lib/python3.10/dist-packages (from soundfile>=0.12.1->-r requirements.txt (line 17)) (1.16.0)\n",
            "Requirement already satisfied: audioread>=2.1.9 in /usr/local/lib/python3.10/dist-packages (from librosa->-r requirements.txt (line 18)) (3.0.1)\n",
            "Requirement already satisfied: decorator>=4.3.0 in /usr/local/lib/python3.10/dist-packages (from librosa->-r requirements.txt (line 18)) (4.4.2)\n",
            "Requirement already satisfied: numba>=0.51.0 in /usr/local/lib/python3.10/dist-packages (from librosa->-r requirements.txt (line 18)) (0.58.1)\n",
            "Requirement already satisfied: pooch>=1.0 in /usr/local/lib/python3.10/dist-packages (from librosa->-r requirements.txt (line 18)) (1.8.0)\n",
            "Requirement already satisfied: soxr>=0.3.2 in /usr/local/lib/python3.10/dist-packages (from librosa->-r requirements.txt (line 18)) (0.3.7)\n",
            "Requirement already satisfied: lazy-loader>=0.1 in /usr/local/lib/python3.10/dist-packages (from librosa->-r requirements.txt (line 18)) (0.3)\n",
            "Requirement already satisfied: msgpack>=1.0 in /usr/local/lib/python3.10/dist-packages (from librosa->-r requirements.txt (line 18)) (1.0.7)\n",
            "Requirement already satisfied: SQLAlchemy<3,>=1.4 in /usr/local/lib/python3.10/dist-packages (from langchain->-r requirements.txt (line 19)) (2.0.25)\n",
            "Requirement already satisfied: async-timeout<5.0.0,>=4.0.0 in /usr/local/lib/python3.10/dist-packages (from langchain->-r requirements.txt (line 19)) (4.0.3)\n",
            "Requirement already satisfied: dataclasses-json<0.7,>=0.5.7 in /usr/local/lib/python3.10/dist-packages (from langchain->-r requirements.txt (line 19)) (0.6.4)\n",
            "Requirement already satisfied: jsonpatch<2.0,>=1.33 in /usr/local/lib/python3.10/dist-packages (from langchain->-r requirements.txt (line 19)) (1.33)\n",
            "Requirement already satisfied: langchain-community<0.1,>=0.0.18 in /usr/local/lib/python3.10/dist-packages (from langchain->-r requirements.txt (line 19)) (0.0.19)\n",
            "Requirement already satisfied: langchain-core<0.2,>=0.1.22 in /usr/local/lib/python3.10/dist-packages (from langchain->-r requirements.txt (line 19)) (0.1.22)\n",
            "Requirement already satisfied: langsmith<0.1,>=0.0.83 in /usr/local/lib/python3.10/dist-packages (from langchain->-r requirements.txt (line 19)) (0.0.87)\n",
            "Requirement already satisfied: pydantic<3,>=1 in /usr/local/lib/python3.10/dist-packages (from langchain->-r requirements.txt (line 19)) (2.6.1)\n",
            "Requirement already satisfied: tenacity<9.0.0,>=8.1.0 in /usr/local/lib/python3.10/dist-packages (from langchain->-r requirements.txt (line 19)) (8.2.3)\n",
            "Requirement already satisfied: aiofiles<24.0,>=22.0 in /usr/local/lib/python3.10/dist-packages (from gradio->-r requirements.txt (line 20)) (23.2.1)\n",
            "Requirement already satisfied: altair<6.0,>=4.2.0 in /usr/local/lib/python3.10/dist-packages (from gradio->-r requirements.txt (line 20)) (4.2.2)\n",
            "Requirement already satisfied: fastapi in /usr/local/lib/python3.10/dist-packages (from gradio->-r requirements.txt (line 20)) (0.109.2)\n",
            "Requirement already satisfied: ffmpy in /usr/local/lib/python3.10/dist-packages (from gradio->-r requirements.txt (line 20)) (0.3.1)\n",
            "Requirement already satisfied: gradio-client==0.9.0 in /usr/local/lib/python3.10/dist-packages (from gradio->-r requirements.txt (line 20)) (0.9.0)\n",
            "Requirement already satisfied: httpx in /usr/local/lib/python3.10/dist-packages (from gradio->-r requirements.txt (line 20)) (0.26.0)\n",
            "Requirement already satisfied: importlib-resources<7.0,>=1.3 in /usr/local/lib/python3.10/dist-packages (from gradio->-r requirements.txt (line 20)) (6.1.1)\n",
            "Requirement already satisfied: markupsafe~=2.0 in /usr/local/lib/python3.10/dist-packages (from gradio->-r requirements.txt (line 20)) (2.1.5)\n",
            "Requirement already satisfied: matplotlib~=3.0 in /usr/local/lib/python3.10/dist-packages (from gradio->-r requirements.txt (line 20)) (3.7.1)\n",
            "Requirement already satisfied: orjson~=3.0 in /usr/local/lib/python3.10/dist-packages (from gradio->-r requirements.txt (line 20)) (3.9.13)\n",
            "Requirement already satisfied: pillow<11.0,>=8.0 in /usr/local/lib/python3.10/dist-packages (from gradio->-r requirements.txt (line 20)) (9.4.0)\n",
            "Requirement already satisfied: pydub in /usr/local/lib/python3.10/dist-packages (from gradio->-r requirements.txt (line 20)) (0.25.1)\n",
            "Requirement already satisfied: python-multipart in /usr/local/lib/python3.10/dist-packages (from gradio->-r requirements.txt (line 20)) (0.0.7)\n",
            "Requirement already satisfied: ruff>=0.1.7 in /usr/local/lib/python3.10/dist-packages (from gradio->-r requirements.txt (line 20)) (0.2.1)\n",
            "Requirement already satisfied: semantic-version~=2.0 in /usr/local/lib/python3.10/dist-packages (from gradio->-r requirements.txt (line 20)) (2.10.0)\n",
            "Requirement already satisfied: tomlkit==0.12.0 in /usr/local/lib/python3.10/dist-packages (from gradio->-r requirements.txt (line 20)) (0.12.0)\n",
            "Requirement already satisfied: typer[all]<1.0,>=0.9 in /usr/local/lib/python3.10/dist-packages (from gradio->-r requirements.txt (line 20)) (0.9.0)\n",
            "Requirement already satisfied: uvicorn>=0.14.0 in /usr/local/lib/python3.10/dist-packages (from gradio->-r requirements.txt (line 20)) (0.27.0.post1)\n",
            "Requirement already satisfied: websockets<12.0,>=10.0 in /usr/local/lib/python3.10/dist-packages (from gradio-client==0.9.0->gradio->-r requirements.txt (line 20)) (11.0.3)\n",
            "Requirement already satisfied: aiosignal>=1.1.2 in /usr/local/lib/python3.10/dist-packages (from aiohttp->datasets->-r requirements.txt (line 6)) (1.3.1)\n",
            "Requirement already satisfied: attrs>=17.3.0 in /usr/local/lib/python3.10/dist-packages (from aiohttp->datasets->-r requirements.txt (line 6)) (23.2.0)\n",
            "Requirement already satisfied: frozenlist>=1.1.1 in /usr/local/lib/python3.10/dist-packages (from aiohttp->datasets->-r requirements.txt (line 6)) (1.4.1)\n",
            "Requirement already satisfied: multidict<7.0,>=4.5 in /usr/local/lib/python3.10/dist-packages (from aiohttp->datasets->-r requirements.txt (line 6)) (6.0.5)\n",
            "Requirement already satisfied: yarl<2.0,>=1.0 in /usr/local/lib/python3.10/dist-packages (from aiohttp->datasets->-r requirements.txt (line 6)) (1.9.4)\n",
            "Requirement already satisfied: entrypoints in /usr/local/lib/python3.10/dist-packages (from altair<6.0,>=4.2.0->gradio->-r requirements.txt (line 20)) (0.4)\n",
            "Requirement already satisfied: jsonschema>=3.0 in /usr/local/lib/python3.10/dist-packages (from altair<6.0,>=4.2.0->gradio->-r requirements.txt (line 20)) (4.19.2)\n",
            "Requirement already satisfied: toolz in /usr/local/lib/python3.10/dist-packages (from altair<6.0,>=4.2.0->gradio->-r requirements.txt (line 20)) (0.12.1)\n",
            "Requirement already satisfied: pycparser in /usr/local/lib/python3.10/dist-packages (from cffi>=1.0->soundfile>=0.12.1->-r requirements.txt (line 17)) (2.21)\n",
            "Requirement already satisfied: marshmallow<4.0.0,>=3.18.0 in /usr/local/lib/python3.10/dist-packages (from dataclasses-json<0.7,>=0.5.7->langchain->-r requirements.txt (line 19)) (3.20.2)\n",
            "Requirement already satisfied: typing-inspect<1,>=0.4.0 in /usr/local/lib/python3.10/dist-packages (from dataclasses-json<0.7,>=0.5.7->langchain->-r requirements.txt (line 19)) (0.9.0)\n",
            "Requirement already satisfied: jsonpointer>=1.9 in /usr/local/lib/python3.10/dist-packages (from jsonpatch<2.0,>=1.33->langchain->-r requirements.txt (line 19)) (2.4)\n",
            "Requirement already satisfied: anyio<5,>=3 in /usr/local/lib/python3.10/dist-packages (from langchain-core<0.2,>=0.1.22->langchain->-r requirements.txt (line 19)) (3.7.1)\n",
            "Requirement already satisfied: contourpy>=1.0.1 in /usr/local/lib/python3.10/dist-packages (from matplotlib~=3.0->gradio->-r requirements.txt (line 20)) (1.2.0)\n",
            "Requirement already satisfied: cycler>=0.10 in /usr/local/lib/python3.10/dist-packages (from matplotlib~=3.0->gradio->-r requirements.txt (line 20)) (0.12.1)\n",
            "Requirement already satisfied: fonttools>=4.22.0 in /usr/local/lib/python3.10/dist-packages (from matplotlib~=3.0->gradio->-r requirements.txt (line 20)) (4.48.1)\n",
            "Requirement already satisfied: kiwisolver>=1.0.1 in /usr/local/lib/python3.10/dist-packages (from matplotlib~=3.0->gradio->-r requirements.txt (line 20)) (1.4.5)\n",
            "Requirement already satisfied: pyparsing>=2.3.1 in /usr/local/lib/python3.10/dist-packages (from matplotlib~=3.0->gradio->-r requirements.txt (line 20)) (3.1.1)\n",
            "Requirement already satisfied: llvmlite<0.42,>=0.41.0dev0 in /usr/local/lib/python3.10/dist-packages (from numba>=0.51.0->librosa->-r requirements.txt (line 18)) (0.41.1)\n",
            "Requirement already satisfied: platformdirs>=2.5.0 in /usr/local/lib/python3.10/dist-packages (from pooch>=1.0->librosa->-r requirements.txt (line 18)) (4.2.0)\n",
            "Requirement already satisfied: annotated-types>=0.4.0 in /usr/local/lib/python3.10/dist-packages (from pydantic<3,>=1->langchain->-r requirements.txt (line 19)) (0.6.0)\n",
            "Requirement already satisfied: pydantic-core==2.16.2 in /usr/local/lib/python3.10/dist-packages (from pydantic<3,>=1->langchain->-r requirements.txt (line 19)) (2.16.2)\n",
            "Requirement already satisfied: six>=1.5 in /usr/local/lib/python3.10/dist-packages (from python-dateutil>=2.8.1->pandas->-r requirements.txt (line 9)) (1.16.0)\n",
            "Requirement already satisfied: charset-normalizer<4,>=2 in /usr/local/lib/python3.10/dist-packages (from requests->transformers->-r requirements.txt (line 2)) (3.3.2)\n",
            "Requirement already satisfied: idna<4,>=2.5 in /usr/local/lib/python3.10/dist-packages (from requests->transformers->-r requirements.txt (line 2)) (3.6)\n",
            "Requirement already satisfied: urllib3<3,>=1.21.1 in /usr/local/lib/python3.10/dist-packages (from requests->transformers->-r requirements.txt (line 2)) (2.0.7)\n",
            "Requirement already satisfied: certifi>=2017.4.17 in /usr/local/lib/python3.10/dist-packages (from requests->transformers->-r requirements.txt (line 2)) (2024.2.2)\n",
            "Requirement already satisfied: greenlet!=0.4.17 in /usr/local/lib/python3.10/dist-packages (from SQLAlchemy<3,>=1.4->langchain->-r requirements.txt (line 19)) (3.0.3)\n",
            "Requirement already satisfied: colorama<0.5.0,>=0.4.3 in /usr/local/lib/python3.10/dist-packages (from typer[all]<1.0,>=0.9->gradio->-r requirements.txt (line 20)) (0.4.6)\n",
            "Requirement already satisfied: shellingham<2.0.0,>=1.3.0 in /usr/local/lib/python3.10/dist-packages (from typer[all]<1.0,>=0.9->gradio->-r requirements.txt (line 20)) (1.5.4)\n",
            "Requirement already satisfied: rich<14.0.0,>=10.11.0 in /usr/local/lib/python3.10/dist-packages (from typer[all]<1.0,>=0.9->gradio->-r requirements.txt (line 20)) (13.7.0)\n",
            "Requirement already satisfied: h11>=0.8 in /usr/local/lib/python3.10/dist-packages (from uvicorn>=0.14.0->gradio->-r requirements.txt (line 20)) (0.14.0)\n",
            "Requirement already satisfied: rootpath>=0.1.0 in /usr/local/lib/python3.10/dist-packages (from attributedict->autoawq==0.1.7->-r requirements.txt (line 12)) (0.1.1)\n",
            "Requirement already satisfied: inspecta>=0.1.0 in /usr/local/lib/python3.10/dist-packages (from attributedict->autoawq==0.1.7->-r requirements.txt (line 12)) (0.1.3)\n",
            "Requirement already satisfied: colour-runner>=0.0.5 in /usr/local/lib/python3.10/dist-packages (from attributedict->autoawq==0.1.7->-r requirements.txt (line 12)) (0.1.1)\n",
            "Requirement already satisfied: deepdiff>=3.3.0 in /usr/local/lib/python3.10/dist-packages (from attributedict->autoawq==0.1.7->-r requirements.txt (line 12)) (6.7.1)\n",
            "Requirement already satisfied: tox>=3.0.0 in /usr/local/lib/python3.10/dist-packages (from attributedict->autoawq==0.1.7->-r requirements.txt (line 12)) (4.12.1)\n",
            "Requirement already satisfied: coverage>=4.5.2 in /usr/local/lib/python3.10/dist-packages (from attributedict->autoawq==0.1.7->-r requirements.txt (line 12)) (7.4.1)\n",
            "Requirement already satisfied: codecov>=2.0.15 in /usr/local/lib/python3.10/dist-packages (from attributedict->autoawq==0.1.7->-r requirements.txt (line 12)) (2.1.13)\n",
            "Requirement already satisfied: humanfriendly>=9.1 in /usr/local/lib/python3.10/dist-packages (from coloredlogs->optimum->-r requirements.txt (line 13)) (10.0)\n",
            "Requirement already satisfied: starlette<0.37.0,>=0.36.3 in /usr/local/lib/python3.10/dist-packages (from fastapi->gradio->-r requirements.txt (line 20)) (0.36.3)\n",
            "Requirement already satisfied: httpcore==1.* in /usr/local/lib/python3.10/dist-packages (from httpx->gradio->-r requirements.txt (line 20)) (1.0.2)\n",
            "Requirement already satisfied: sniffio in /usr/local/lib/python3.10/dist-packages (from httpx->gradio->-r requirements.txt (line 20)) (1.3.0)\n",
            "Requirement already satisfied: jsonlines in /usr/local/lib/python3.10/dist-packages (from lm-eval->autoawq==0.1.7->-r requirements.txt (line 12)) (4.0.0)\n",
            "Requirement already satisfied: numexpr in /usr/local/lib/python3.10/dist-packages (from lm-eval->autoawq==0.1.7->-r requirements.txt (line 12)) (2.9.0)\n",
            "Requirement already satisfied: pybind11>=2.6.2 in /usr/local/lib/python3.10/dist-packages (from lm-eval->autoawq==0.1.7->-r requirements.txt (line 12)) (2.11.1)\n",
            "Requirement already satisfied: pytablewriter in /usr/local/lib/python3.10/dist-packages (from lm-eval->autoawq==0.1.7->-r requirements.txt (line 12)) (1.2.0)\n",
            "Requirement already satisfied: rouge-score>=0.0.4 in /usr/local/lib/python3.10/dist-packages (from lm-eval->autoawq==0.1.7->-r requirements.txt (line 12)) (0.1.2)\n",
            "Requirement already satisfied: sacrebleu>=1.5.0 in /usr/local/lib/python3.10/dist-packages (from lm-eval->autoawq==0.1.7->-r requirements.txt (line 12)) (2.4.0)\n",
            "Requirement already satisfied: sqlitedict in /usr/local/lib/python3.10/dist-packages (from lm-eval->autoawq==0.1.7->-r requirements.txt (line 12)) (2.1.0)\n",
            "Requirement already satisfied: tqdm-multiprocess in /usr/local/lib/python3.10/dist-packages (from lm-eval->autoawq==0.1.7->-r requirements.txt (line 12)) (0.0.11)\n",
            "Requirement already satisfied: zstandard in /usr/local/lib/python3.10/dist-packages (from lm-eval->autoawq==0.1.7->-r requirements.txt (line 12)) (0.22.0)\n",
            "Requirement already satisfied: mpmath>=0.19 in /usr/local/lib/python3.10/dist-packages (from sympy->torch>=2.1.2->-r requirements.txt (line 1)) (1.3.0)\n",
            "Requirement already satisfied: exceptiongroup in /usr/local/lib/python3.10/dist-packages (from anyio<5,>=3->langchain-core<0.2,>=0.1.22->langchain->-r requirements.txt (line 19)) (1.2.0)\n",
            "Requirement already satisfied: blessings in /usr/local/lib/python3.10/dist-packages (from colour-runner>=0.0.5->attributedict->autoawq==0.1.7->-r requirements.txt (line 12)) (1.7)\n",
            "Requirement already satisfied: pygments in /usr/local/lib/python3.10/dist-packages (from colour-runner>=0.0.5->attributedict->autoawq==0.1.7->-r requirements.txt (line 12)) (2.16.1)\n",
            "Requirement already satisfied: ordered-set<4.2.0,>=4.0.2 in /usr/local/lib/python3.10/dist-packages (from deepdiff>=3.3.0->attributedict->autoawq==0.1.7->-r requirements.txt (line 12)) (4.1.0)\n",
            "Requirement already satisfied: termcolor>=1.1.0 in /usr/local/lib/python3.10/dist-packages (from inspecta>=0.1.0->attributedict->autoawq==0.1.7->-r requirements.txt (line 12)) (2.4.0)\n",
            "Requirement already satisfied: jsonschema-specifications>=2023.03.6 in /usr/local/lib/python3.10/dist-packages (from jsonschema>=3.0->altair<6.0,>=4.2.0->gradio->-r requirements.txt (line 20)) (2023.12.1)\n",
            "Requirement already satisfied: referencing>=0.28.4 in /usr/local/lib/python3.10/dist-packages (from jsonschema>=3.0->altair<6.0,>=4.2.0->gradio->-r requirements.txt (line 20)) (0.33.0)\n",
            "Requirement already satisfied: rpds-py>=0.7.1 in /usr/local/lib/python3.10/dist-packages (from jsonschema>=3.0->altair<6.0,>=4.2.0->gradio->-r requirements.txt (line 20)) (0.17.1)\n",
            "Requirement already satisfied: markdown-it-py>=2.2.0 in /usr/local/lib/python3.10/dist-packages (from rich<14.0.0,>=10.11.0->typer[all]<1.0,>=0.9->gradio->-r requirements.txt (line 20)) (3.0.0)\n",
            "Requirement already satisfied: absl-py in /usr/local/lib/python3.10/dist-packages (from rouge-score>=0.0.4->lm-eval->autoawq==0.1.7->-r requirements.txt (line 12)) (1.4.0)\n",
            "Requirement already satisfied: nltk in /usr/local/lib/python3.10/dist-packages (from rouge-score>=0.0.4->lm-eval->autoawq==0.1.7->-r requirements.txt (line 12)) (3.8.1)\n",
            "Requirement already satisfied: portalocker in /usr/local/lib/python3.10/dist-packages (from sacrebleu>=1.5.0->lm-eval->autoawq==0.1.7->-r requirements.txt (line 12)) (2.8.2)\n",
            "Requirement already satisfied: lxml in /usr/local/lib/python3.10/dist-packages (from sacrebleu>=1.5.0->lm-eval->autoawq==0.1.7->-r requirements.txt (line 12)) (4.9.4)\n",
            "Requirement already satisfied: cachetools>=5.3.2 in /usr/local/lib/python3.10/dist-packages (from tox>=3.0.0->attributedict->autoawq==0.1.7->-r requirements.txt (line 12)) (5.3.2)\n",
            "Requirement already satisfied: chardet>=5.2 in /usr/local/lib/python3.10/dist-packages (from tox>=3.0.0->attributedict->autoawq==0.1.7->-r requirements.txt (line 12)) (5.2.0)\n",
            "Requirement already satisfied: pluggy>=1.3 in /usr/local/lib/python3.10/dist-packages (from tox>=3.0.0->attributedict->autoawq==0.1.7->-r requirements.txt (line 12)) (1.4.0)\n",
            "Requirement already satisfied: pyproject-api>=1.6.1 in /usr/local/lib/python3.10/dist-packages (from tox>=3.0.0->attributedict->autoawq==0.1.7->-r requirements.txt (line 12)) (1.6.1)\n",
            "Requirement already satisfied: tomli>=2.0.1 in /usr/local/lib/python3.10/dist-packages (from tox>=3.0.0->attributedict->autoawq==0.1.7->-r requirements.txt (line 12)) (2.0.1)\n",
            "Requirement already satisfied: virtualenv>=20.25 in /usr/local/lib/python3.10/dist-packages (from tox>=3.0.0->attributedict->autoawq==0.1.7->-r requirements.txt (line 12)) (20.25.0)\n",
            "Requirement already satisfied: mypy-extensions>=0.3.0 in /usr/local/lib/python3.10/dist-packages (from typing-inspect<1,>=0.4.0->dataclasses-json<0.7,>=0.5.7->langchain->-r requirements.txt (line 19)) (1.0.0)\n",
            "Requirement already satisfied: setuptools>=38.3.0 in /usr/local/lib/python3.10/dist-packages (from pytablewriter->lm-eval->autoawq==0.1.7->-r requirements.txt (line 12)) (67.7.2)\n",
            "Requirement already satisfied: DataProperty<2,>=1.0.1 in /usr/local/lib/python3.10/dist-packages (from pytablewriter->lm-eval->autoawq==0.1.7->-r requirements.txt (line 12)) (1.0.1)\n",
            "Requirement already satisfied: mbstrdecoder<2,>=1.0.0 in /usr/local/lib/python3.10/dist-packages (from pytablewriter->lm-eval->autoawq==0.1.7->-r requirements.txt (line 12)) (1.1.3)\n",
            "Requirement already satisfied: pathvalidate<4,>=2.3.0 in /usr/local/lib/python3.10/dist-packages (from pytablewriter->lm-eval->autoawq==0.1.7->-r requirements.txt (line 12)) (3.2.0)\n",
            "Requirement already satisfied: tabledata<2,>=1.3.1 in /usr/local/lib/python3.10/dist-packages (from pytablewriter->lm-eval->autoawq==0.1.7->-r requirements.txt (line 12)) (1.3.3)\n",
            "Requirement already satisfied: tcolorpy<1,>=0.0.5 in /usr/local/lib/python3.10/dist-packages (from pytablewriter->lm-eval->autoawq==0.1.7->-r requirements.txt (line 12)) (0.1.4)\n",
            "Requirement already satisfied: typepy[datetime]<2,>=1.3.2 in /usr/local/lib/python3.10/dist-packages (from pytablewriter->lm-eval->autoawq==0.1.7->-r requirements.txt (line 12)) (1.3.2)\n",
            "Requirement already satisfied: mdurl~=0.1 in /usr/local/lib/python3.10/dist-packages (from markdown-it-py>=2.2.0->rich<14.0.0,>=10.11.0->typer[all]<1.0,>=0.9->gradio->-r requirements.txt (line 20)) (0.1.2)\n",
            "Requirement already satisfied: distlib<1,>=0.3.7 in /usr/local/lib/python3.10/dist-packages (from virtualenv>=20.25->tox>=3.0.0->attributedict->autoawq==0.1.7->-r requirements.txt (line 12)) (0.3.8)\n"
          ]
        }
      ],
      "source": [
        "!pip install -r requirements.txt"
      ]
    },
    {
      "cell_type": "code",
      "execution_count": 40,
      "id": "gx367ba6o2Y-",
      "metadata": {
        "colab": {
          "base_uri": "https://localhost:8080/"
        },
        "id": "gx367ba6o2Y-",
        "outputId": "c0ebcaa9-bdbc-4d1f-d261-18b832ac5f22"
      },
      "outputs": [
        {
          "name": "stdout",
          "output_type": "stream",
          "text": [
            "Requirement already satisfied: openai in /usr/local/lib/python3.10/dist-packages (1.12.0)\n",
            "Requirement already satisfied: anyio<5,>=3.5.0 in /usr/local/lib/python3.10/dist-packages (from openai) (3.7.1)\n",
            "Requirement already satisfied: distro<2,>=1.7.0 in /usr/lib/python3/dist-packages (from openai) (1.7.0)\n",
            "Requirement already satisfied: httpx<1,>=0.23.0 in /usr/local/lib/python3.10/dist-packages (from openai) (0.26.0)\n",
            "Requirement already satisfied: pydantic<3,>=1.9.0 in /usr/local/lib/python3.10/dist-packages (from openai) (2.6.1)\n",
            "Requirement already satisfied: sniffio in /usr/local/lib/python3.10/dist-packages (from openai) (1.3.0)\n",
            "Requirement already satisfied: tqdm>4 in /usr/local/lib/python3.10/dist-packages (from openai) (4.66.1)\n",
            "Requirement already satisfied: typing-extensions<5,>=4.7 in /usr/local/lib/python3.10/dist-packages (from openai) (4.9.0)\n",
            "Requirement already satisfied: idna>=2.8 in /usr/local/lib/python3.10/dist-packages (from anyio<5,>=3.5.0->openai) (3.6)\n",
            "Requirement already satisfied: exceptiongroup in /usr/local/lib/python3.10/dist-packages (from anyio<5,>=3.5.0->openai) (1.2.0)\n",
            "Requirement already satisfied: certifi in /usr/local/lib/python3.10/dist-packages (from httpx<1,>=0.23.0->openai) (2024.2.2)\n",
            "Requirement already satisfied: httpcore==1.* in /usr/local/lib/python3.10/dist-packages (from httpx<1,>=0.23.0->openai) (1.0.2)\n",
            "Requirement already satisfied: h11<0.15,>=0.13 in /usr/local/lib/python3.10/dist-packages (from httpcore==1.*->httpx<1,>=0.23.0->openai) (0.14.0)\n",
            "Requirement already satisfied: annotated-types>=0.4.0 in /usr/local/lib/python3.10/dist-packages (from pydantic<3,>=1.9.0->openai) (0.6.0)\n",
            "Requirement already satisfied: pydantic-core==2.16.2 in /usr/local/lib/python3.10/dist-packages (from pydantic<3,>=1.9.0->openai) (2.16.2)\n"
          ]
        }
      ],
      "source": [
        "pip install openai"
      ]
    },
    {
      "cell_type": "code",
      "execution_count": 42,
      "id": "f84be8c1-128b-4763-aae6-b143de572796",
      "metadata": {
        "id": "f84be8c1-128b-4763-aae6-b143de572796"
      },
      "outputs": [],
      "source": [
        "from openai import OpenAI\n",
        "client = OpenAI()"
      ]
    },
    {
      "cell_type": "code",
      "execution_count": 43,
      "id": "d0c8f9e7-ef2c-400d-b194-a31806f0fa91",
      "metadata": {
        "id": "d0c8f9e7-ef2c-400d-b194-a31806f0fa91"
      },
      "outputs": [],
      "source": [
        "response = client.chat.completions.create(\n",
        "  model=\"gpt-3.5-turbo-1106\",\n",
        "  messages=[\n",
        "    {\n",
        "      \"role\": \"system\",\n",
        "      \"content\": \"你是中国古典哲学大师，尤其擅长周易的哲学解读。\\n\\n接下来，你收到的都是关于周易卦象的解释，你需要整理润色，并生成用于大模型训练的内容和格式。\\n\\n示例输入：\\n\\n师卦，此卦是异卦相叠，下卦为坎，上卦为坤。“师”指军队。坎为水、为险；坤为地、为顺，喻寓兵于农。兵凶战危，用兵乃圣人不得已而为之，但它可以顺利无阻碍地解决矛盾，因为顺乎形势，师出有名，故能化凶为吉。占得此卦，对于军事上率师出征非常有利，必无灾祸。师卦是天马出群之卦，以寡伏众之象。\\n师卦位于讼卦之后，《序卦》之中这样解释道：“讼必有众起，故受之以师。师者，众也。”争讼的人越来越多，以致形成了军队。\\n\\n期待结果：\\n\\ncontent:\\\"师卦\\\"\\nsummary:\\\"在周易中，师卦是一个极具深意的卦象，它由两个异卦相叠组成：下卦坎（水）和上卦坤（地）。这一卦象代表“师”，即军队，寓意着兵力和农力的结合。在这里，坎卦象征着水和险难，而坤卦象征着地和顺从，暗示着通过将军事力量安置于民间，可以在必要时顺利调动。\\n\\n师卦的核心哲学是：虽然兵力代表着危险和战争，但其使用应当是圣人不得已而为之的最后手段。在正确的情况下，军事力量可以顺应形势，将危险转化为吉祥。因此，在军事策略上，此卦象征着出征将会顺利，无灾祸。\\n\\n师卦紧随讼卦（争讼卦），在《序卦》中解释为“讼必有众起，故受之以师”。这意味着争端激化至众多人群的参与，形成了类似军队的集体力量。\\\"\"\n",
        "    },\n",
        "    {\n",
        "      \"role\": \"user\",\n",
        "      \"content\": \"蒙卦是教育启蒙的智慧，艮为山，坎为泉，山下出泉。泉水始流出山，则必将渐汇成江河,正如蒙稚渐启，又山下有险，因为有险停止不前，所以蒙昧不明。事物发展的初期阶段，必然蒙昧，所以教育是当务之急，养学生纯正无邪的品质，是治蒙之道。\\n蒙卦，这个卦是异卦相叠，下卦为坎，上卦为艮。艮是山的形象，喻止；坎是水的形象，喻险。卦形为山下有险，仍不停止前进，是为蒙昧，故称蒙卦。但因把握时机，行动切合时宜;因此，具有启蒙和通达的卦象。\\n《蒙》卦是《屯》卦这个始生卦之后的第二卦。《序卦》中说：“物生必蒙，故受之以蒙。蒙者，蒙也，特之稚也。”物之幼稚阶段，有如蒙昧未开的状态，在人则是指童蒙。\\n《象》中这样解释蒙卦：山下出泉，蒙；君子以果行育德。\"\n",
        "    },\n",
        "    {\n",
        "      \"role\": \"assistant\",\n",
        "      \"content\": \"content:\\\"蒙卦\\\"\\nsummary:\\\"在周易中，蒙卦象征着教育启蒙和智慧的初期阶段，由两个异卦相叠组成：下卦坎（水）和上卦艮（山）。坎象征水，艮象征山，代表了山下有水源，水流出山。这预示着在事物发展的起初阶段，人们会陷入蒙昧状态，因此教育成为当务之急。只有培养纯正无邪的品质，才能走上通达之路，如同泉水汇成江河。\\n\\n蒙卦的核心哲学是：事物发展的初期阶段必然处于蒙昧状态，但如果能把握时机，行动切合时宜，就能启蒙通达。蒙卦紧随始生卦《屯》之后，《序卦》中解释道：“物生必蒙，故受之以蒙。蒙者，蒙也，特之稚也。”这说明物在幼稚阶段都会经历蒙昧状态，找它蒙即是稚嫩。\\n\\n《象》中解释说：山下出泉，蒙；君子以果行育德，意味着像泉水从山下流出一样，启蒙教育有助于培育美德。\\\"\"\n",
        "    },\n",
        "    {\n",
        "      \"role\": \"user\",\n",
        "      \"content\": \"需卦，本卦是异卦相叠，上卦为坎，下卦为乾。乾卦象征天空辽阔，坎卦象征乌云密布。雨水之于传统农业社会而言，是最大的需求，因此用这个意象来表现。古人引申为雨将下，万物皆待，所以叫需。\\n需，古体字结构是“雨上天下”，从雨而声。如苍天下雨，滋养万物及人。从人的角度看，天下雨，则不易出行耕作，因此在家喝酒吃肉、静待天时。所以，这一卦的基本象征就是等待、不进，还有饮食之义。\\n \\n需卦位于蒙卦之后，《序卦》之中这样解释道：“物稚不可不养也，故受之以需。需者，饮食之道也。”有所需要，也是有所等待。\\n《象》曰：云上于天，需;君子以饮食宴乐。\\n《象》中这段话的意思是说：需卦的卦象是乾(天)下坎(水)上，为水在天上之表象。水汽聚集天上成为云层，密云満天，但还没有下雨，需要等待;君子在这个时候需要吃喝，饮酒作乐，即在等待的时候积蓄力量。\\n需卦象征等待，启示人们守正待机的道理，属于中上卦。《象》这样评断此卦：明珠土埋日久深，无光无亮到如今，忽然大风吹土去，自然显露有重新。\\n\"\n",
        "    },\n",
        "    {\n",
        "      \"role\": \"assistant\",\n",
        "      \"content\": \"content:\\\"需卦\\\"\\nsummary:\\\"在周易中，需卦是一个富有深意的卦象，由两个异卦相叠组成：下卦乾（天）和上卦坎（水）。乾象征广阔的天空，而坎象征乌云密布，暗示着迫切需要雨水的意象。古人将雨水视为万物生长的必需，因此命名为“需”。需卦的基本象征是等待和饮食之道。\\n\\n需卦位于蒙卦之后，《序卦》中解释为“物稚不可不养也，故受之以需。需者，饮食之道也。”说明物在幼稚状态需要得到滋养，因此受到需卦的启示。《象》中描述：云上于天，需；君子以饮食宴乐。意味着天空乌云密布，需要等待雨水，而君子则在等待的过程中积蓄力量，享受饮食和欢乐。\\n\\n需卦的核心哲学是：等待，启示着守正待机的道理。它属于中上卦，象征着埋藏已久的明珠，经过大风吹去尘埃后，重新显露光芒。\\\"\"\n",
        "    }\n",
        "  ],\n",
        "  temperature=1,\n",
        "  max_tokens=4095,\n",
        "  top_p=1,\n",
        "  frequency_penalty=0,\n",
        "  presence_penalty=0\n",
        ")"
      ]
    },
    {
      "cell_type": "code",
      "execution_count": null,
      "id": "2e0d4a01-ba68-47ad-b32e-ca3ed609c02d",
      "metadata": {
        "id": "2e0d4a01-ba68-47ad-b32e-ca3ed609c02d"
      },
      "outputs": [],
      "source": []
    },
    {
      "cell_type": "markdown",
      "id": "5cad327e-e725-4258-a0d4-5937929074ca",
      "metadata": {
        "id": "5cad327e-e725-4258-a0d4-5937929074ca"
      },
      "source": [
        "## 使用 LangChain 构造训练数据"
      ]
    },
    {
      "cell_type": "code",
      "execution_count": 44,
      "id": "f3224fa1-16bb-4526-9f3d-1d731376f1f3",
      "metadata": {
        "colab": {
          "base_uri": "https://localhost:8080/"
        },
        "collapsed": true,
        "id": "f3224fa1-16bb-4526-9f3d-1d731376f1f3",
        "jupyter": {
          "outputs_hidden": true
        },
        "outputId": "cc80d4bc-bcd7-48a4-9e3e-1afd56ea0351"
      },
      "outputs": [
        {
          "name": "stderr",
          "output_type": "stream",
          "text": [
            "WARNING:langchain_community.chat_models.openai:WARNING! top_p is not default parameter.\n",
            "                    top_p was transferred to model_kwargs.\n",
            "                    Please confirm that top_p is what you intended.\n",
            "WARNING:langchain_community.chat_models.openai:WARNING! frequency_penalty is not default parameter.\n",
            "                    frequency_penalty was transferred to model_kwargs.\n",
            "                    Please confirm that frequency_penalty is what you intended.\n",
            "WARNING:langchain_community.chat_models.openai:WARNING! presence_penalty is not default parameter.\n",
            "                    presence_penalty was transferred to model_kwargs.\n",
            "                    Please confirm that presence_penalty is what you intended.\n"
          ]
        }
      ],
      "source": [
        "from langchain.chat_models import ChatOpenAI\n",
        "from langchain.schema import HumanMessage, SystemMessage\n",
        "from langchain.prompts.chat import (\n",
        "    ChatPromptTemplate,\n",
        "    HumanMessagePromptTemplate,\n",
        "    SystemMessagePromptTemplate,\n",
        ")\n",
        "\n",
        "chat = ChatOpenAI(model=\"gpt-3.5-turbo-1106\",\n",
        "                  temperature=1,\n",
        "                  max_tokens=4095,\n",
        "                  top_p=1,\n",
        "                  frequency_penalty=0,\n",
        "                  presence_penalty=0)"
      ]
    },
    {
      "cell_type": "code",
      "execution_count": 45,
      "id": "43a07901-59b3-4290-97dc-8dfd948f8f14",
      "metadata": {
        "id": "43a07901-59b3-4290-97dc-8dfd948f8f14"
      },
      "outputs": [],
      "source": [
        "system_content = \"\"\"\n",
        "你是中国古典哲学大师，尤其擅长周易的哲学解读。\n",
        "\n",
        "接下来，你收到的都是关于周易卦象的解释，你需要整理润色，并生成用于大模型训练的内容和格式。\n",
        "\n",
        "示例输入：\n",
        "\n",
        "师卦，此卦是异卦相叠，下卦为坎，上卦为坤。“师”指军队。坎为水、为险；坤为地、为顺，喻寓兵于农。兵凶战危，用兵乃圣人不得已而为之，但它可以顺利无阻碍地解决矛盾，因为顺乎形势，师出有名，故能化凶为吉。占得此卦，对于军事上率师出征非常有利，必无灾祸。师卦是天马出群之卦，以寡伏众之象。\n",
        "师卦位于讼卦之后，《序卦》之中这样解释道：“讼必有众起，故受之以师。师者，众也。”争讼的人越来越多，以致形成了军队。\n",
        "\n",
        "期待结果：\n",
        "\n",
        "content:\"师卦\"\n",
        "summary:\"在周易中，师卦是一个极具深意的卦象，它由两个异卦相叠组成：下卦坎（水）和上卦坤（地）。这一卦象代表“师”，即军队，寓意着兵力和农力的结合。在这里，坎卦象征着水和险难，而坤卦象征着地和顺从，暗示着通过将军事力量安置于民间，可以在必要时顺利调动。\n",
        "\n",
        "师卦的核心哲学是：虽然兵力代表着危险和战争，但其使用应当是圣人不得已而为之的最后手段。在正确的情况下，军事力量可以顺应形势，将危险转化为吉祥。因此，在军事策略上，此卦象征着出征将会顺利，无灾祸。\n",
        "\n",
        "师卦紧随讼卦（争讼卦），在《序卦》中解释为“讼必有众起，故受之以师”。这意味着争端激化至众多人群的参与，形成了类似军队的集体力量。\"\n",
        "\"\"\"\n"
      ]
    },
    {
      "cell_type": "code",
      "execution_count": 46,
      "id": "4678fd0d-147a-4bca-ab12-1cd4c15a700b",
      "metadata": {
        "id": "4678fd0d-147a-4bca-ab12-1cd4c15a700b"
      },
      "outputs": [],
      "source": [
        "# 原始数据\n",
        "raw_content = \"蒙卦是教育启蒙的智慧，艮为山，坎为泉，山下出泉。泉水始流出山，则必将渐汇成江河,正如蒙稚渐启，又山下有险，因为有险停止不前，所以蒙昧不明。事物发展的初期阶段，必然蒙昧，所以教育是当务之急，养学生纯正无邪的品质，是治蒙之道。\\n蒙卦，这个卦是异卦相叠，下卦为坎，上卦为艮。艮是山的形象，喻止；坎是水的形象，喻险。卦形为山下有险，仍不停止前进，是为蒙昧，故称蒙卦。但因把握时机，行动切合时宜;因此，具有启蒙和通达的卦象。\\n《蒙》卦是《屯》卦这个始生卦之后的第二卦。《序卦》中说：“物生必蒙，故受之以蒙。蒙者，蒙也，特之稚也。”物之幼稚阶段，有如蒙昧未开的状态，在人则是指童蒙。\\n《象》中这样解释蒙卦：山下出泉，蒙；君子以果行育德。\""
      ]
    },
    {
      "cell_type": "code",
      "execution_count": 47,
      "id": "dd57faee-81cf-4fd9-ad90-cc1583cfa32a",
      "metadata": {
        "id": "dd57faee-81cf-4fd9-ad90-cc1583cfa32a"
      },
      "outputs": [],
      "source": [
        "messages = [\n",
        "    SystemMessage(\n",
        "        content=system_content\n",
        "    ),\n",
        "    HumanMessage(\n",
        "        content=raw_content\n",
        "    ),\n",
        "]"
      ]
    },
    {
      "cell_type": "code",
      "execution_count": 48,
      "id": "19eec711-faa3-463a-8e5f-a100696491eb",
      "metadata": {
        "id": "19eec711-faa3-463a-8e5f-a100696491eb"
      },
      "outputs": [],
      "source": [
        "ai_message = chat(messages)"
      ]
    },
    {
      "cell_type": "markdown",
      "id": "15df67cd-3dab-4c54-a4f2-0b14c0c52953",
      "metadata": {
        "id": "15df67cd-3dab-4c54-a4f2-0b14c0c52953"
      },
      "source": [
        "### 解析 OpenAI GPT 生成的训练数据"
      ]
    },
    {
      "cell_type": "code",
      "execution_count": 49,
      "id": "ea3d3181-fd27-4d4f-a305-98c295b4317b",
      "metadata": {
        "colab": {
          "base_uri": "https://localhost:8080/",
          "height": 104
        },
        "id": "ea3d3181-fd27-4d4f-a305-98c295b4317b",
        "outputId": "a3d2ee79-04e6-4157-ceb0-480c15889ea4"
      },
      "outputs": [
        {
          "data": {
            "application/vnd.google.colaboratory.intrinsic+json": {
              "type": "string"
            },
            "text/plain": [
              "'content:\"蒙卦\"\\nsummary:\"蒙卦是周易中一个充满智慧的卦象，由坎卦（水）和艮卦（山）两个异卦相叠而成。坎代表水，艮代表山，形成山下有水的情景。这象征着事物发展的初期阶段，充满了蒙昧和不明，需要进行教育启蒙。在这一过程中，应当培养学生纯正无邪的品质，以治蒙之道。\\n\\n蒙卦的核心观念是：尽管初期充满蒙昧，但抓住时机，顺时而动，可以启蒙开朗，通达治愚。因此，蒙卦象征着启蒙和通达的智慧。\\n\\n蒙卦位于《屯卦》之后，《序卦》中解释道：“物生必蒙，故受之以蒙。蒙者，蒙也，特之稚也。”这说明在事物或人的幼稚阶段，就如同山下的泉水初涌，需要蒙昧阶段受到启蒙的照耀。\\n\\n《象》中解释蒙卦的意义是：山下有泉水涌出，这就是蒙卦的图象。君子应当果断行动，培育品德，引导启蒙之智。\"'"
            ]
          },
          "execution_count": 49,
          "metadata": {},
          "output_type": "execute_result"
        }
      ],
      "source": [
        "ai_message.content"
      ]
    },
    {
      "cell_type": "code",
      "execution_count": 50,
      "id": "2564444f-e237-425b-adc4-429115bb86dd",
      "metadata": {
        "colab": {
          "base_uri": "https://localhost:8080/"
        },
        "id": "2564444f-e237-425b-adc4-429115bb86dd",
        "outputId": "d177902e-91a3-420f-dd51-5544f4013c36"
      },
      "outputs": [
        {
          "name": "stdout",
          "output_type": "stream",
          "text": [
            "content:\"蒙卦\"\n",
            "summary:\"蒙卦是周易中一个充满智慧的卦象，由坎卦（水）和艮卦（山）两个异卦相叠而成。坎代表水，艮代表山，形成山下有水的情景。这象征着事物发展的初期阶段，充满了蒙昧和不明，需要进行教育启蒙。在这一过程中，应当培养学生纯正无邪的品质，以治蒙之道。\n",
            "\n",
            "蒙卦的核心观念是：尽管初期充满蒙昧，但抓住时机，顺时而动，可以启蒙开朗，通达治愚。因此，蒙卦象征着启蒙和通达的智慧。\n",
            "\n",
            "蒙卦位于《屯卦》之后，《序卦》中解释道：“物生必蒙，故受之以蒙。蒙者，蒙也，特之稚也。”这说明在事物或人的幼稚阶段，就如同山下的泉水初涌，需要蒙昧阶段受到启蒙的照耀。\n",
            "\n",
            "《象》中解释蒙卦的意义是：山下有泉水涌出，这就是蒙卦的图象。君子应当果断行动，培育品德，引导启蒙之智。\"\n",
            "++++++++++++++++++++++++++++++++++++++\n",
            "Content: 蒙卦\n",
            "------------------------------------\n",
            "Summary: 蒙卦是周易中一个充满智慧的卦象，由坎卦（水）和艮卦（山）两个异卦相叠而成。坎代表水，艮代表山，形成山下有水的情景。这象征着事物发展的初期阶段，充满了蒙昧和不明，需要进行教育启蒙。在这一过程中，应当培养学生纯正无邪的品质，以治蒙之道。\n",
            "\n",
            "蒙卦的核心观念是：尽管初期充满蒙昧，但抓住时机，顺时而动，可以启蒙开朗，通达治愚。因此，蒙卦象征着启蒙和通达的智慧。\n",
            "\n",
            "蒙卦位于《屯卦》之后，《序卦》中解释道：“物生必蒙，故受之以蒙。蒙者，蒙也，特之稚也。”这说明在事物或人的幼稚阶段，就如同山下的泉水初涌，需要蒙昧阶段受到启蒙的照耀。\n",
            "\n",
            "《象》中解释蒙卦的意义是：山下有泉水涌出，这就是蒙卦的图象。君子应当果断行动，培育品德，引导启蒙之智。\n"
          ]
        }
      ],
      "source": [
        "text = ai_message.content\n",
        "print(text)\n",
        "print('++++++++++++++++++++++++++++++++++++++')\n",
        "\n",
        "# 分割字符串来找到content和summary的位置\n",
        "content_start = text.find('content:\"') + len('content:\"')\n",
        "content_end = text.find('\"', content_start)\n",
        "summary_start = text.find('summary:\"') + len('summary:\"')\n",
        "summary_end = text.rfind('\"interpretation\": ')\n",
        "\n",
        "# 提取并存储content和summary\n",
        "content = text[content_start:content_end].strip()\n",
        "summary = text[summary_start:summary_end].strip()\n",
        "\n",
        "print(\"Content:\", content)\n",
        "print('------------------------------------')\n",
        "print(\"Summary:\", summary)\n"
      ]
    },
    {
      "cell_type": "markdown",
      "id": "ba36506e-2871-4ad9-b928-ec9338969ce9",
      "metadata": {
        "id": "ba36506e-2871-4ad9-b928-ec9338969ce9"
      },
      "source": [
        "### 持久化存储训练数据集文件"
      ]
    },
    {
      "cell_type": "code",
      "execution_count": 51,
      "id": "d9fa000b-c4d4-41d2-94cf-7564e8dad87f",
      "metadata": {
        "id": "d9fa000b-c4d4-41d2-94cf-7564e8dad87f"
      },
      "outputs": [],
      "source": [
        "import csv\n",
        "\n",
        "# 如果没有GPT API，可以使用预定义的变量\n",
        "# content = \"蒙卦\"\n",
        "# summary = \"在周易中，师卦是一个极具深意的卦象，它由两个异卦相叠组成：下卦坎（水）和上卦坤（地）。这一卦象代表“师”，即军队，寓意着兵力和农力的结合。在这里，坎卦象征着水和险难，而坤卦象征着地和顺从，暗示着通过将军事力量安置于民间，可以在必要时顺利调动。师卦的核心哲学是：虽然兵力代表着危险和战争，但其使用应当是圣人不得已而为之的最后手段。在正确的情况下，军事力量可以顺应形势，将危险转化为吉祥。因此，在军事策略上，此卦象征着出征将会顺利，无灾祸。师卦紧随讼卦（争讼卦），在《序卦》中解释为“讼必有众起，故受之以师”。这意味着争端激化至众多人群的参与，形成了类似军队的集体力量。\"\n",
        "\n",
        "# 新建CSV文件并写入数据\n",
        "with open('test_dataset.csv', mode='w', newline='', encoding='utf-8') as file:\n",
        "    writer = csv.writer(file)\n",
        "    # 写入标题行\n",
        "    writer.writerow(['content', 'summary'])\n",
        "    # 写入数据行\n",
        "    writer.writerow([content, summary])\n"
      ]
    },
    {
      "cell_type": "code",
      "execution_count": null,
      "id": "e6e2e4ed-08a2-4e9d-ba18-d55685d44df3",
      "metadata": {
        "id": "e6e2e4ed-08a2-4e9d-ba18-d55685d44df3"
      },
      "outputs": [],
      "source": []
    },
    {
      "cell_type": "markdown",
      "id": "df4aed7d-f597-46c5-a25e-960fd731bb3c",
      "metadata": {
        "id": "df4aed7d-f597-46c5-a25e-960fd731bb3c"
      },
      "source": [
        "### 数据增强：构造多样化的提问方式"
      ]
    },
    {
      "cell_type": "code",
      "execution_count": 52,
      "id": "6b335c84-e0ee-49a3-bca9-d45d1701bde4",
      "metadata": {
        "id": "6b335c84-e0ee-49a3-bca9-d45d1701bde4"
      },
      "outputs": [],
      "source": [
        "def generate_question_summary_pairs(content, summary):\n",
        "    \"\"\"\n",
        "    生成40对提问和总结的配对。\n",
        "\n",
        "    :param content: 内容（例如：“蒙卦”）。\n",
        "    :param summary: 内容的总结。\n",
        "    :return: 包含40对提问和总结的列表。\n",
        "    \"\"\"\n",
        "    # 40种提问模板\n",
        "    question_templates = [\n",
        "        \"{}代表什么？\",\n",
        "        \"周易中的{}含义是什么？\",\n",
        "        \"请解释一下{}。\",\n",
        "        \"{}在周易中是什么象征？\",\n",
        "        \"周易{}的深层含义是什么？\",\n",
        "        \"{}和教育启蒙有什么联系？\",\n",
        "        \"周易的{}讲述了什么？\",\n",
        "        \"{}是怎样的一个卦象？\",\n",
        "        \"{}在周易中怎样表达教育的概念？\",\n",
        "        \"{}的基本意义是什么？\",\n",
        "        \"周易中{}的解释是什么？\",\n",
        "        \"{}在周易中代表了哪些方面？\",\n",
        "        \"{}涉及哪些哲学思想？\",\n",
        "        \"周易中{}的象征意义是什么？\",\n",
        "        \"{}的主要讲述内容是什么？\",\n",
        "        \"周易{}的核心思想是什么？\",\n",
        "        \"{}和启蒙教育之间有何联系？\",\n",
        "        \"在周易中，{}象征着什么？\",\n",
        "        \"请描述{}的含义。\"\n",
        "    ]\n",
        "\n",
        "    # 使用content填充提问模板\n",
        "    questions = [template.format(content) for template in question_templates]\n",
        "    # 创建提问和总结的配对\n",
        "    question_summary_pairs = [(question, summary) for question in questions]\n",
        "    return question_summary_pairs"
      ]
    },
    {
      "cell_type": "code",
      "execution_count": 53,
      "id": "05349693-61a9-4557-ba9a-c0f4ff24a1ac",
      "metadata": {
        "colab": {
          "base_uri": "https://localhost:8080/"
        },
        "id": "05349693-61a9-4557-ba9a-c0f4ff24a1ac",
        "outputId": "9e2c894b-38aa-4ed7-db3d-c2e7dffbd63a"
      },
      "outputs": [
        {
          "name": "stdout",
          "output_type": "stream",
          "text": [
            "content: 蒙卦\n",
            "summary: 蒙卦是周易中一个充满智慧的卦象，由坎卦（水）和艮卦（山）两个异卦相叠而成。坎代表水，艮代表山，形成山下有水的情景。这象征着事物发展的初期阶段，充满了蒙昧和不明，需要进行教育启蒙。在这一过程中，应当培养学生纯正无邪的品质，以治蒙之道。\n",
            "\n",
            "蒙卦的核心观念是：尽管初期充满蒙昧，但抓住时机，顺时而动，可以启蒙开朗，通达治愚。因此，蒙卦象征着启蒙和通达的智慧。\n",
            "\n",
            "蒙卦位于《屯卦》之后，《序卦》中解释道：“物生必蒙，故受之以蒙。蒙者，蒙也，特之稚也。”这说明在事物或人的幼稚阶段，就如同山下的泉水初涌，需要蒙昧阶段受到启蒙的照耀。\n",
            "\n",
            "《象》中解释蒙卦的意义是：山下有泉水涌出，这就是蒙卦的图象。君子应当果断行动，培育品德，引导启蒙之智。\n"
          ]
        }
      ],
      "source": [
        "import csv\n",
        "\n",
        "# 如果没有GPT API，可以使用预定义的变量\n",
        "# content = \"蒙卦\"\n",
        "# summary = \"在周易中，师卦是一个极具深意的卦象，它由两个异卦相叠组成：下卦坎（水）和上卦坤（地）。这一卦象代表“师”，即军队，寓意着兵力和农力的结合。在这里，坎卦象征着水和险难，而坤卦象征着地和顺从，暗示着通过将军事力量安置于民间，可以在必要时顺利调动。师卦的核心哲学是：虽然兵力代表着危险和战争，但其使用应当是圣人不得已而为之的最后手段。在正确的情况下，军事力量可以顺应形势，将危险转化为吉祥。因此，在军事策略上，此卦象征着出征将会顺利，无灾祸。师卦紧随讼卦（争讼卦），在《序卦》中解释为“讼必有众起，故受之以师”。这意味着争端激化至众多人群的参与，形成了类似军队的集体力量。\"\n",
        "print(f'content: {content}')\n",
        "print(f'summary: {summary}')\n",
        "pairs = generate_question_summary_pairs(content, summary)\n",
        "\n",
        "# 将结果写入CSV文件\n",
        "with open('test_dataset.csv', mode='w', newline='', encoding='utf-8') as file:\n",
        "    writer = csv.writer(file)\n",
        "    writer.writerow(['content', 'summary'])\n",
        "    for pair in pairs:\n",
        "        writer.writerow(pair)\n"
      ]
    },
    {
      "cell_type": "markdown",
      "id": "3825a610-a117-4f76-ad6f-35a491aeec24",
      "metadata": {
        "id": "3825a610-a117-4f76-ad6f-35a491aeec24"
      },
      "source": [
        "## 自动化批量生成训练数据流水线\n",
        "\n",
        "原始数据来源：https://www.zhouyi.cc/zhouyi/yijing64/4103.html"
      ]
    },
    {
      "cell_type": "code",
      "execution_count": 54,
      "id": "fd387396-25b6-48ef-b510-bb3906ba52d4",
      "metadata": {
        "id": "fd387396-25b6-48ef-b510-bb3906ba52d4"
      },
      "outputs": [],
      "source": [
        "# 初始化一个空列表用于存储原始内容数据\n",
        "raw_content_data = []\n",
        "\n",
        "# 读取文件并分割数据样例\n",
        "with open('/content/drive/MyDrive/data/chatglm/raw_data.txt', 'r', encoding='utf-8') as file:\n",
        "    content = file.read()\n",
        "    # 使用连续的换行符('\\n\\n')作为分隔符来分割文本\n",
        "    data_samples = content.split('\\n\\n')\n",
        "\n",
        "    # 遍历分割后的数据样例并添加到列表中\n",
        "    for sample in data_samples:\n",
        "        # 移除每个样例中的额外空白字符（如果有的话）\n",
        "        cleaned_sample = sample.strip()\n",
        "        # 仅添加非空样例\n",
        "        if cleaned_sample:\n",
        "            raw_content_data.append(cleaned_sample)"
      ]
    },
    {
      "cell_type": "code",
      "execution_count": 55,
      "id": "ed7f642e-d5de-4d19-8c16-07240daf70df",
      "metadata": {
        "colab": {
          "base_uri": "https://localhost:8080/"
        },
        "collapsed": true,
        "id": "ed7f642e-d5de-4d19-8c16-07240daf70df",
        "jupyter": {
          "outputs_hidden": true
        },
        "outputId": "b6328533-85b3-4b9b-e280-a381b0441dda"
      },
      "outputs": [
        {
          "name": "stdout",
          "output_type": "stream",
          "text": [
            "样例 1:\n",
            "《蒙卦》\n",
            "蒙卦原文\n",
            "蒙。亨。匪我求童蒙，童蒙求我。初筮告，再三渎，渎则不告。利贞。\n",
            "象曰：山下出泉，蒙。君子以果行育德。\n",
            "白话文解释\n",
            "蒙卦：通泰。不是我有求于幼稚愚昧的人，而是幼稚愚昧的人有求于我。第一次占筮，神灵告诉了他。轻慢不敬的再三占筮，轻慢不敬的占筮，神灵就不会告诉他。但还是吉利的卜问。\n",
            "《象辞》说：上卦为艮，象征山；下卦为坎，象征泉。山下有泉，泉水喷涌而出，这是蒙卦的卦象。君子观此卦象，取法于一往无前的山泉，从而以果敢坚毅的行动来培养自身的品德。\n",
            "《断易天机》解\n",
            "蒙卦艮上坎下，为离宫四世卦。蒙即蒙昧，主回还往复，疑惑不前，多忧愁过失，乃是凶卦。\n",
            "北宋易学家邵雍解\n",
            "智慧未开，蒙昧闭塞；犹豫不决，缺乏果断。\n",
            "得此卦者，智慧犹如童蒙，不辨是非，迷失方向；若能顺贤师良友之教，启其聪明则亨通。\n",
            "台湾国学大儒傅佩荣解\n",
            "时运：蓄积德行，出而用世。\n",
            "财运：矿山生意，果决则吉。\n",
            "家宅：君子居吉；婚姻之始。\n",
            "身体：驱去邪热，可保平安。\n",
            "传统解卦\n",
            "这个卦是异卦（下坎上艮）相叠，艮是山的形象，喻止；坎是水的形象，喻险。卦形为山下有险，仍不停止前进，是为蒙昧，故称蒙卦。但因把握时机，行动切合时宜，因此，具有启蒙和通达的卦象。\n",
            "大象：蒙者，昏而无所见也，故宜「启蒙」。\n",
            "运势：初时迷惑不知方向，须忍耐待机而动，凡事多听取别人意见，则运可通。\n",
            "事业：事业开始，混乱无序，危机四伏，以勇敢坚毅的行动可以扭转局面。然而必须接受严格教育，培养这种奋发图强的精神。务必脚踏实地，最忌好高骛远，否则会陷入孤立无援的境地。\n",
            "经商：务必小心谨慎，不得急功近利，尤其应树立高尚的商业道德，以良好的信誉提高竞争力而取胜。\n",
            "求名：必须接受良好的基础教育，陶冶情操。且动机纯正，可以达到目的。\n",
            "婚恋：注意考察对方品德，不可以金钱为诱铒。夫妻需相互宽容、理解。\n",
            "决策：有时会陷入迷惘困顿的境地，加上胆小、不果断，往往误事。如能接受长辈的教诲，甚至严酷的考验，抛弃疑惧的心理，等待适当时机，必然一帆风顺。\n",
            "------\n",
            "样例 2:\n",
            "《屯卦》\n",
            "屯卦原文\n",
            "屯。元，亨，利，贞。勿用，有攸往，利建侯。\n",
            "象曰：云，雷，屯；君子以经纶。\n",
            "白话文解释\n",
            "屯卦。大吉大利，吉利的占卜。不利于出门。有利于建国封侯。\n",
            "《象辞》说：屯的上卦为坎，坎为云，下卦为震，震为雷。云行于上，雷动于下，是屯卦的卦象。君子观此卦象，取法于云雷，用云的恩泽，雷的威严来治理国事。\n",
            "《断易天机》解\n",
            "屯卦坎上震下，为坎宫二世卦。屯说明有困难，又象征动而逢险境，需刚毅果敢方为吉。\n",
            "北宋易学家邵雍解\n",
            "万物始生，开始困难；先劳后逸，苦尽甘来。\n",
            "得此卦者，身处困境，宜守不宜进，须多加辛苦努力，排除困难，方可通达，有初难后解之象。\n",
            "台湾国学大儒傅佩荣解\n",
            "时运：宜守不宜进。\n",
            "财运：创业维艰。\n",
            "家宅：修缮住宅；初婚不和。\n",
            "身体：保存元气。\n",
            "传统解卦\n",
            "这个卦是异卦（下震上坎）相叠，震为雷，喻动；坎为雨，喻险。雷雨交加，险象丛生，环境恶劣。“屯”原指植物萌生大地，万物始生，充满艰难险阻，然而顺时应运，必欣欣向荣。\n",
            "大象：屯者难也，万事欲进而不得进。\n",
            "运势：身处困境，步步为营，有初难后解之意。\n",
            "事业：起初多有不利，要知难而进，小心翼翼，勇往直前，灵活机动，可望获得大的成功，时机到来时一定要抓住，却也不得操之太急，且仍有困难，务必有他人相助，故平时应多施恩惠。\n",
            "经商：创业初期步履艰难，多有挫折。坚定信念最重要，不要为表面现象所迷惑，应积极进取，行动果断，打开出路。若仍无法摆脱困境，则应退守保全，等待机会，再展宏图。\n",
            "求名：积极争取，主动追求，可以成功。\n",
            "婚恋：好事多磨，忠贞纯洁，大胆追求，能够成功，婚姻美满。\n",
            "决策：初始困难，但若具有坚忍不拔的毅力和锲而不舍的奋斗精神，前途不可估量，但往往不为他人理解而陷于孤独苦闷，事业会因此处于困难状态，需要得到贤德之人的帮助才能摆脱。如能以乐观主义精神处世，能取得成就。\n",
            "------\n",
            "样例 3:\n",
            "《需卦》\n",
            "需卦原文\n",
            "需。有孚，光亨，贞吉。利涉大川。\n",
            "象曰：云上于天，需；君子以饮食宴乐。\n",
            "白话文解释\n",
            "需卦：抓到俘虏。大吉大利，吉利的卜问。有利于涉水渡河。\n",
            "《象辞》说：需的上卦为坎，表示云；下卦为乾，表示天。云浮聚于天上，待时降雨是需卦的卦象。君子观此卦象，可以宴饮安乐，待时而动。\n",
            "《断易天机》解\n",
            "需卦坎上乾下，为坤宫游魂卦。需为踌躇、期待，虽然刚强，但前面有险阻，应当等待，涉大川则利。\n",
            "北宋易学家邵雍解\n",
            "坎陷当前，遇阻不进；大器晚成，收成在后。\n",
            "得此卦者，时机尚未成熟，需要耐心等待，急进反会见凶。\n",
            "台湾国学大儒傅佩荣解\n",
            "时运：时机尚未成熟，耐心等待。\n",
            "财运：资本未集，无法开张。\n",
            "家宅：平安是福。\n",
            "身体：调节饮食，健康有望。\n",
            "传统解卦\n",
            "这个卦是异卦（下乾上坎）相叠，下卦是乾，刚健之意；上卦是坎，险陷之意。以刚逢险，宜稳健之妥，不可冒失行动，观时待变，所往一定成功。\n",
            "大象：云登天上而未雨，不能急进，等待时机之象。\n",
            "运势：智者必须待时而行，急进反见凶险。\n",
            "事业：关键在于审时度势，耐心等待，事成于安祥，切勿冒险，欲速不达。自己要充满自信，临危不惧，坚守中正，必可化险为夷。情况有利时，仍得居安思危。\n",
            "经商：行动之初，情况困难，必须以极大的耐心，创造条件和机会，行事光明磊落，观时待变，实现愿望。事情接近成功时，更应小心谨慎，切莫功亏一篑。\n",
            "求名：时机尚不成熟，应耐心等待。这时应坚定信念，不为闲言流语所动摇，努力丰富自己，再求助可靠的人便可成功。\n",
            "婚恋：慎重，切不可草率行事，逐渐培养感情，以诚实、热情相待，会发生变故，仍可以有良好的结局。双方都应懂得以柔克刚的道理。\n",
            "决策：前途光明，有雄心大志，且可实现。为此需要积蓄实力，等待时机，大器晚成。本人具有坚强的意志，冷静的头脑。前进途中会遇到困难和险阻，必须十分谨慎，坦然对待小人的中伤，在灾祸在面前能镇静自若。不轻举妄动，冷静选择方向。为人谦和、坦率，多有他人相助，促使事业成功。当时机成熟后，必然一帆风顺。\n",
            "------\n",
            "样例 4:\n",
            "《讼卦》\n",
            "讼卦原文\n",
            "讼。有孚，窒惕，中吉，终凶。利见大人，不利涉大川。\n",
            "象曰：天与水违行，讼。君子以做事谋始。\n",
            "白话文解释\n",
            "讼卦：虽有利可图(获得俘虏)，但要警惕戒惧。其事中间吉利，后来凶险。占筮得此爻，有利于会见贵族王公，不利于涉水渡河。\n",
            "《象辞》说：上卦为乾，乾为天；下卦为坎，坎为水，天水隔绝，流向相背，事理乖舛，这是讼卦的卦象。君子观此卦象，以杜绝争讼为意，从而在谋事之初必须慎之又慎。\n",
            "《断易天机》解\n",
            "讼卦乾上坎下，为离宫游魂卦。上乾为刚，下坎为险，一方刚强，一方阴险，必然产生争论，因此多有不吉。\n",
            "北宋易学家邵雍解\n",
            "天高水深，达远不亲；慎谋退守，敬畏无凶。\n",
            "得此卦者，身心不安，事多不顺，与他人多争诉之事，宜修身养性，谨慎处事。\n",
            "台湾国学大儒傅佩荣解\n",
            "时运：功名受阻，不宜树敌。\n",
            "财运：开始谨慎，终可获利。\n",
            "家宅：君子必求淑女。\n",
            "身体：预防胜于治疗。\n",
            "传统解卦\n",
            "这个卦是异卦（下坎上乾）相叠。同需卦相反，互为“综卦”。乾为刚健，坎为险陷。刚与险，健与险，彼此反对，定生争讼。争讼非善事，务必慎重戒惧。\n",
            "大象：乾天升于上，坎水降于下，相背而行而起讼。\n",
            "运势：事与愿违，凡事不顺，小人加害，宜防陷阱。\n",
            "事业：起初顺利，有利可图，继而受挫，务必警惕，慎之又慎，不得固执已见，极力避免介入诉讼纠纷的争执之中。与其这样，不如退而让人，求得化解，安于正理，可免除意外之灾。陷入争讼，即使获胜，最后还得失去，得不偿失。\n",
            "经商：和气生财，吃亏是福，切勿追求不义之财。商业谈判应坚持公正、公平、互利的原则，尽量避免发生冲突。这样便会有好结果。\n",
            "求名：不利。自己尚缺乏竞争实力，应坚守纯正，隐忍自励，自强自勉，切莫逞强。依靠有地位的人的帮助，及早渡过难关。\n",
            "婚恋：虽不尽人意，倒也般配，彼此理解，未尝不可。双方应以温和的方式处理生活。\n",
            "决策：争强好胜，不安于现状，为改变命运和超越他人而奋斗。头脑聪颖，反应敏捷，有贵人相助。但缺乏持之以恒的毅力，容易露出锋芒，得罪他人，带来诉讼之灾。宜承认现实，顺其自然，知足，适可而止。接受教训，引以为戒，可功成名就。\n",
            "------\n",
            "样例 5:\n",
            "《师卦》\n",
            "师卦原文\n",
            "师。贞，丈人吉，无咎。\n",
            "象曰：地中有水，师。君子以容民畜众。\n",
            "白话文解释\n",
            "师卦：占问总指挥的军情，没有灾祸。\n",
            "《象辞》说：下卦为坎，坎为水；上卦为坤，坤为地，像“地中有水”，这是师卦的卦象。君子观此卦象，取法于容纳江河的大地，收容和畜养大众。\n",
            "《断易天机》解\n",
            "师卦坤上坎下，为坎宫归魂卦。师即兵众，只有选择德高望重的长者来统率军队，才能吉祥无咎。\n",
            "北宋易学家邵雍解\n",
            "忧劳动众，变化无穷；公正无私，排除万难。\n",
            "得此卦者，困难重重，忧心劳众，宜包容别人，艰苦努力，摒除一切困难。\n",
            "台湾国学大儒傅佩荣解\n",
            "时运：包容别人，修行待时。\n",
            "财运：有财有库，善自珍惜。\n",
            "家宅：旧亲联姻，可喜可贺。\n",
            "身体：腹胀之症，调气无忧。\n",
            "传统解卦\n",
            "这个卦是异卦（下坎上坤）相叠。“师”指军队。坎为水、为险；坤为地、为顺，喻寓兵于农。兵凶战危，用兵乃圣人不得已而为之，但它可以顺利无阻碍地解决矛盾，因为顺乎形势，师出有名，故能化凶为吉。\n",
            "大象：养兵聚众，出师攻伐之象，彼此有伤，难得安宁。\n",
            "运势：困难重重，凡事以正规行事，忌独断独行、投机取巧，提防潜在敌人。\n",
            "事业：阻力很大，困难很多，处于激烈的竞争状态，要与他人密切合作，谨小慎微，行为果断，切忌盲目妄动，适度即可，注意保全自己。机动灵活，严于律已。从容沉着对付一切，必能成功。\n",
            "经商：已有一定的积蓄，可以从事大的营销活动，但必卷入激烈商战，以刚毅顽强的精神和高尚的商业道德，辅以灵活的方法，勿贪图小利，勿掉以轻心，加强与他人的沟通，必可摆脱困境，化险为夷。\n",
            "求名：具备很好的条件，但须有正确的引导，务必严格要求自己，克服不利因素的干扰，经过扎实努力，必可名利双全。\n",
            "婚恋：慎重、专注，否则会陷入“三角”纠纷。痴情追求可以达到目的。\n",
            "决策：天资聪颖，性格灵活，具有坚强的意志，对事业执着追求，迎难而进。可成就大事业。喜竞争，善争辩，富有冒险精神，不免带来麻烦，务老成持重，不贪功，以中正为要。\n",
            "------\n"
          ]
        }
      ],
      "source": [
        "# 输出结果以验证\n",
        "for i, sample in enumerate(raw_content_data[:5]):  # 打印前5个样例以检查\n",
        "    print(f\"样例 {i+1}:\")\n",
        "    print(sample)\n",
        "    print(\"------\")\n"
      ]
    },
    {
      "cell_type": "markdown",
      "id": "7633a7be-88f2-4d59-9070-d8a08e6e909c",
      "metadata": {
        "id": "7633a7be-88f2-4d59-9070-d8a08e6e909c"
      },
      "source": [
        "### 将以上的所有模块，整合到一起，自动化生成数据"
      ]
    },
    {
      "cell_type": "code",
      "execution_count": 56,
      "id": "fd5d803a-6adf-4b6b-acda-7dbb7a259f06",
      "metadata": {
        "colab": {
          "base_uri": "https://localhost:8080/"
        },
        "id": "fd5d803a-6adf-4b6b-acda-7dbb7a259f06",
        "jupyter": {
          "source_hidden": true
        },
        "outputId": "b019de29-e10e-4314-d7a5-2ebd5ea542e1"
      },
      "outputs": [
        {
          "name": "stderr",
          "output_type": "stream",
          "text": [
            "WARNING:langchain_community.chat_models.openai:WARNING! top_p is not default parameter.\n",
            "                    top_p was transferred to model_kwargs.\n",
            "                    Please confirm that top_p is what you intended.\n",
            "WARNING:langchain_community.chat_models.openai:WARNING! frequency_penalty is not default parameter.\n",
            "                    frequency_penalty was transferred to model_kwargs.\n",
            "                    Please confirm that frequency_penalty is what you intended.\n",
            "WARNING:langchain_community.chat_models.openai:WARNING! presence_penalty is not default parameter.\n",
            "                    presence_penalty was transferred to model_kwargs.\n",
            "                    Please confirm that presence_penalty is what you intended.\n"
          ]
        }
      ],
      "source": [
        "from langchain.chat_models import ChatOpenAI\n",
        "from langchain.schema import HumanMessage, SystemMessage\n",
        "from langchain.prompts.chat import (\n",
        "    ChatPromptTemplate,\n",
        "    HumanMessagePromptTemplate,\n",
        "    SystemMessagePromptTemplate,\n",
        ")\n",
        "\n",
        "# 初始化LangChain的GPT-3.5调用\n",
        "chat = ChatOpenAI(model=\"gpt-3.5-turbo-1106\",\n",
        "                  temperature=1,\n",
        "                  max_tokens=4095,\n",
        "                  top_p=1,\n",
        "                  frequency_penalty=0,\n",
        "                  presence_penalty=0)\n",
        "\n",
        "def gen_data(raw_content):\n",
        "    \"\"\"\n",
        "    使用LangChain GPT-3.5调用处理单个数据样例。\n",
        "\n",
        "    :param raw_content: 原始数据样例。\n",
        "    :return: GPT-3.5模型生成的内容。\n",
        "    \"\"\"\n",
        "    # 系统消息定义背景和任务\n",
        "    system_message = SystemMessage(\n",
        "        content=\"\"\"\n",
        "        你是中国古典哲学大师，尤其擅长周易的哲学解读。\n",
        "\n",
        "        接下来，你收到的都是关于周易卦象的解释，你需要整理润色，并生成用于大模型训练的内容和格式。\n",
        "\n",
        "        示例输入：\n",
        "\n",
        "        师卦，此卦是异卦相叠，下卦为坎，上卦为坤。“师”指军队。坎为水、为险；坤为地、为顺，喻寓兵于农。兵凶战危，用兵乃圣人不得已而为之，但它可以顺利无阻碍地解决矛盾，因为顺乎形势，师出有名，故能化凶为吉。占得此卦，对于军事上率师出征非常有利，必无灾祸。师卦是天马出群之卦，以寡伏众之象。\n",
        "        师卦位于讼卦之后，《序卦》之中这样解释道：“讼必有众起，故受之以师。师者，众也。”争讼的人越来越多，以致形成了军队。\n",
        "\n",
        "        期待结果：\n",
        "\n",
        "        content:\"师卦\"\n",
        "        summary:\"在周易中，师卦是一个极具深意的卦象，它由两个异卦相叠组成：下卦坎（水）和上卦坤（地）。这一卦象代表“师”，即军队，寓意着兵力和农力的结合。在这里，坎卦象征着水和险难，而坤卦象征着地和顺从，暗示着通过将军事力量安置于民间，可以在必要时顺利调动。\n",
        "\n",
        "        师卦的核心哲学是：虽然兵力代表着危险和战争，但其使用应当是圣人不得已而为之的最后手段。在正确的情况下，军事力量可以顺应形势，将危险转化为吉祥。因此，在军事策略上，此卦象征着出征将会顺利，无灾祸。\n",
        "\n",
        "        师卦紧随讼卦（争讼卦），在《序卦》中解释为“讼必有众起，故受之以师”。这意味着争端激化至众多人群的参与，形成了类似军队的集体力量。\"\n",
        "        \"\"\"\n",
        "    )\n",
        "\n",
        "    # 人类消息包含原始数据样例\n",
        "    human_message = HumanMessage(\n",
        "        content=raw_content\n",
        "    )\n",
        "\n",
        "    # 构建消息列表并进行模型调用\n",
        "    messages = [system_message, human_message]\n",
        "    ai_message = chat(messages)\n",
        "\n",
        "    return ai_message.content"
      ]
    },
    {
      "cell_type": "code",
      "execution_count": 57,
      "id": "7790a03b-2fe7-445d-90d4-941d790d419b",
      "metadata": {
        "colab": {
          "base_uri": "https://localhost:8080/"
        },
        "collapsed": true,
        "id": "7790a03b-2fe7-445d-90d4-941d790d419b",
        "jupyter": {
          "outputs_hidden": true
        },
        "outputId": "113bb639-8605-495d-a2c1-1506b15f2659"
      },
      "outputs": [
        {
          "name": "stdout",
          "output_type": "stream",
          "text": [
            "content:\"谦卦\"\n",
            "summary:\"谦卦\"是周易中的一卦，由两个异卦相叠而成：下卦艮（山）上卦坤（地）。这一卦象通泰，预示着君子将有所成就。在卦象中，地下有山，内高外低，寓意谦逊和裒多益寡，称物平施。谦者，谦虚、逊让之意，代表内心的谦虚和外在行为的谦恭。谦卦提倡裁取多余以增益缺乏，衡量财物多寡来公平施予。\n",
            "\n",
            "谦卦为兑宫五世卦，解为谦逊、谦虚，内卦艮和外卦坤都是谦虚之象，故为吉利之卦。古代经学家解释道，谦卦象征着谦和忍让，利用谦虚可使诸事顺利。得此卦者，预示着吉利平安，前途光明，而骄横者则必败。台湾国学大儒傅佩荣指出，谦卦运势平顺，财运合理保障，家宅平安，身体内郁之症可通过放宽心胸而得以缓解。\n",
            "\n",
            "传统解卦认为，谦卦代表内高外低的谦虚之德。运势吉利平安，但需要去除骄横之气。在事业上，谦卦提示尚未被人器重，但有望为人所发现，需要保持谦虚的品德，埋头苦干。在经商方面，谦卦提示较为顺利，但需小心谨慎。在求名方面，天资聪明者应保持谦逊好学的精神。在婚恋方面，谦卦提示需要双方共同努力维系美满的婚姻。决策上，谦卦暗示着内在的谦虚美德、团结他人的能力、对他人长处的吸取，以及遇到困难能化险为夷的特点。同时，也需要特别注意学业、德业和修养。\"\n"
          ]
        }
      ],
      "source": [
        "# 示例调用（使用 raw_data.txt 中解析的数据样例）\n",
        "generated_content = gen_data(raw_content_data[12])\n",
        "print(generated_content)"
      ]
    },
    {
      "cell_type": "code",
      "execution_count": 58,
      "id": "4e37d53c-3dd4-4494-a83f-c45786e40caa",
      "metadata": {
        "id": "4e37d53c-3dd4-4494-a83f-c45786e40caa"
      },
      "outputs": [],
      "source": [
        "def dataset_parser(ai_message_content):\n",
        "    \"\"\"\n",
        "    解析由gen_data函数生成的ai_message.content，提取content和summary。\n",
        "\n",
        "    :param ai_message_content: gen_data函数返回的文本。\n",
        "    :return: 提取的content和summary。\n",
        "    \"\"\"\n",
        "    # 分割字符串来找到content和summary的位置\n",
        "    # content_start = ai_message_content.find('content:\"') + len('content:\"')\n",
        "    # content_end = ai_message_content.find('\",\\n  \"summary\": ')\n",
        "    # summary_start = ai_message_content.find('summary:\"') + len('summary:\"')\n",
        "    # summary_end = ai_message_content.rfind('\",\\n  \"interpretation\": ')\n",
        "\n",
        "    text = ai_message_content\n",
        "    content_start = text.find('content:\"') + len('content:\"')\n",
        "    content_end = text.find('\"', content_start)\n",
        "    summary_start = text.find('summary:\"') + len('summary:\"')\n",
        "    summary_end = text.rfind('\"interpretation\": ')\n",
        "    # 提取并存储content和summary\n",
        "    content = ai_message_content[content_start:content_end].strip()\n",
        "    summary = ai_message_content[summary_start:summary_end].strip()\n",
        "\n",
        "    return content, summary\n"
      ]
    },
    {
      "cell_type": "code",
      "execution_count": 59,
      "id": "bc2f94fd-52d2-473e-b70a-721ab4d1f5cf",
      "metadata": {
        "colab": {
          "base_uri": "https://localhost:8080/"
        },
        "collapsed": true,
        "id": "bc2f94fd-52d2-473e-b70a-721ab4d1f5cf",
        "jupyter": {
          "outputs_hidden": true
        },
        "outputId": "2bbe8ae0-e11e-4563-b3f9-4b3497cf4e3e"
      },
      "outputs": [
        {
          "name": "stdout",
          "output_type": "stream",
          "text": [
            "Content: 谦卦\n",
            "Summary: 谦卦\"是周易中的一卦，由两个异卦相叠而成：下卦艮（山）上卦坤（地）。这一卦象通泰，预示着君子将有所成就。在卦象中，地下有山，内高外低，寓意谦逊和裒多益寡，称物平施。谦者，谦虚、逊让之意，代表内心的谦虚和外在行为的谦恭。谦卦提倡裁取多余以增益缺乏，衡量财物多寡来公平施予。\n",
            "\n",
            "谦卦为兑宫五世卦，解为谦逊、谦虚，内卦艮和外卦坤都是谦虚之象，故为吉利之卦。古代经学家解释道，谦卦象征着谦和忍让，利用谦虚可使诸事顺利。得此卦者，预示着吉利平安，前途光明，而骄横者则必败。台湾国学大儒傅佩荣指出，谦卦运势平顺，财运合理保障，家宅平安，身体内郁之症可通过放宽心胸而得以缓解。\n",
            "\n",
            "传统解卦认为，谦卦代表内高外低的谦虚之德。运势吉利平安，但需要去除骄横之气。在事业上，谦卦提示尚未被人器重，但有望为人所发现，需要保持谦虚的品德，埋头苦干。在经商方面，谦卦提示较为顺利，但需小心谨慎。在求名方面，天资聪明者应保持谦逊好学的精神。在婚恋方面，谦卦提示需要双方共同努力维系美满的婚姻。决策上，谦卦暗示着内在的谦虚美德、团结他人的能力、对他人长处的吸取，以及遇到困难能化险为夷的特点。同时，也需要特别注意学业、德业和修养。\n"
          ]
        }
      ],
      "source": [
        "# 示例调用（使用假设的gen_data函数返回的文本）\n",
        "content, summary = dataset_parser(generated_content)\n",
        "print(\"Content:\", content)\n",
        "print(\"Summary:\", summary)"
      ]
    },
    {
      "cell_type": "code",
      "execution_count": 60,
      "id": "716794df-b608-4cca-a45d-9c597cf2a333",
      "metadata": {
        "id": "716794df-b608-4cca-a45d-9c597cf2a333"
      },
      "outputs": [],
      "source": [
        "import csv\n",
        "import datetime\n",
        "import os\n",
        "import time\n",
        "\n",
        "def main():\n",
        "    # 确保 data 目录存在\n",
        "    if not os.path.exists('data'):\n",
        "        os.makedirs('data')\n",
        "\n",
        "    # 解析 data/raw_data.txt 得到 raw_content_data 列表\n",
        "    raw_content_data = []\n",
        "    with open('/content/drive/MyDrive/data/chatglm/raw_data.txt', 'r', encoding='utf-8') as file:\n",
        "        content = file.read()\n",
        "        data_samples = content.split('\\n\\n')\n",
        "        for sample in data_samples:\n",
        "            cleaned_sample = sample.strip()\n",
        "            if cleaned_sample:\n",
        "                raw_content_data.append(cleaned_sample)\n",
        "\n",
        "    # 创建带有时间戳的CSV文件名\n",
        "    timestamp = datetime.datetime.now().strftime(\"%Y%m%d_%H%M%S\")\n",
        "    filename = f\"/content/drive/MyDrive/data/chatglm/zhouyi_dataset_{timestamp}.csv\"\n",
        "\n",
        "    # 创建CSV文件并写入标题行\n",
        "    with open(filename, mode='w', newline='', encoding='utf-8') as file:\n",
        "        writer = csv.writer(file)\n",
        "        writer.writerow(['content', 'summary'])\n",
        "\n",
        "        # 循环遍历 raw_content_data 数据样例\n",
        "        for raw_content in raw_content_data:\n",
        "            # 调用 gen_data 方法得到 ai_message_content\n",
        "            ai_message_content = gen_data(raw_content)\n",
        "\n",
        "            # 解析 ai_message_content 得到 content 和 summary\n",
        "            content, summary = dataset_parser(ai_message_content)\n",
        "\n",
        "            print(\"II Content:\", content)\n",
        "            print(\"II Summary:\", summary)\n",
        "\n",
        "            # 调用 generate_question_summary_pairs 得到20组 pairs\n",
        "            pairs = generate_question_summary_pairs(content, summary)\n",
        "\n",
        "            # 将 pairs 写入 csv 文件\n",
        "            for pair in pairs:\n",
        "                writer.writerow(pair)\n",
        "\n",
        "            time.sleep(15)"
      ]
    },
    {
      "cell_type": "code",
      "execution_count": 62,
      "id": "c7869572-220d-4542-ab57-9d98613bbc80",
      "metadata": {
        "colab": {
          "base_uri": "https://localhost:8080/"
        },
        "collapsed": true,
        "id": "c7869572-220d-4542-ab57-9d98613bbc80",
        "jupyter": {
          "outputs_hidden": true
        },
        "outputId": "d25bb12d-2ed7-43e4-eeef-85af348a47f6"
      },
      "outputs": [
        {
          "name": "stdout",
          "output_type": "stream",
          "text": [
            "II Content: {\n",
            "II Summary: {\n",
            "  \"content\": \"蒙卦\",\n",
            "  \"summary\": \"蒙卦是一个通泰的卦象。它代表的是不是我有求于幼稚愚昧的人，而是幼稚愚昧的人有求于我。第一次占筮即得神灵之告示，但若轻慢不敬地再三占筮，神灵将不再告知。但是，仍然是一个吉利的卜问。按照《象辞》，此卦上卦为艮，象征山；下卦为坎，象征泉。山下有泉，泉水喷涌而出，这是蒙卦的卦象。君子观此卦象，取法于一往无前的山泉，从而以果敢坚毅的行动来培养自身的品德。\",\n",
            "II Content: 屯卦\n",
            "II Summary: 在周易中，屯卦是一个具有深远哲理的卦象。它由两个异卦相叠组成：下卦震（雷）和上卦坎（水）。这一卦象预示着大吉大利，是一种吉利的占卜。然而，却不利于出门，却有利于建国封侯。\n",
            "\n",
            "据《象辞》解释，屯卦的卦象为坎上震下，坎为云，震为雷。预示着云行于上，雷动于下，因此君子观此卦象，可以取法于云雷之恩泽和威严，来治理国家事务。\n",
            "\n",
            "现代解释认为，屯卦代表着困难与动荡，需要坚毅果敢方能获得吉祥。因此，时势对于身处困境的人而言，需要守而不进，多加辛苦努力排除困难。同时，财运上创业维艰，婚姻方面初婚不和，对于家宅则需要修缮住宅。\n",
            "\n",
            "传统解卦中，屯卦象征着万物始生，充满了艰难险阻，但顺时应运就可以欣欣向荣。这一阶段的运势是身处困境，需要步步为营，但却有初难后解之意。在事业上，要勇往直前，灵活机动，务必要有他人相助。\n",
            "\n",
            "总的来说，屯卦预示着初始困难，需要坚忍不拔的毅力和锲而不舍的奋斗精神，却常常因为不为他人理解而陷入孤独苦闷。但如果能以乐观主义精神处世，最终将收获成功。\"\n",
            "II Content: 需卦\n",
            "II Summary: 在周易中，需卦描述了抓到俘虏的情景。这是一个大吉大利，吉利的卜问，暗示着有利于涉水渡河。需卦由上卦坎（云）和下卦乾（天）组成，预示着云浮聚于天上，待时降雨。因此，君子观此卦象，可以宴饮安乐，待时而动。\n",
            "\n",
            "需卦的核心哲学是：踌躇和期待。尽管面临着险阻，但应当等待并细心观察，涉大川则会获利。这是一个需要耐心等待和审时度势的卦象。\n",
            "\n",
            "得到需卦的占卜者，应当明白时机尚未成熟，需要耐心等待，不可急进，以免见凶。智者必须待时而行，观时待变。对于事业、经商、求名、婚恋等方面，都需要审时度势，耐心等待，并坚守中正，化险为夷，最终必将成功。\"\n",
            "\n",
            "content:\"《象辞》\"\n",
            "summary:\"《象辞》中描述需卦的卦象为云上于天，暗示了不能急进，需要等待时机的象征。君子观此卦象，应当宴饮安乐，待时而动。\"\n",
            "\n",
            "content:\"《断易天机》解\"\n",
            "summary:\"需卦由坎上乾下组成，为坤宫游魂卦。预示着踌躇和期待，虽然刚强，但需要等待时机。涉大川则可获利。\"\n",
            "\n",
            "content:\"北宋易学家邵雍解\"\n",
            "summary:\"邵雍认为需卦表示当前处于坎陷之境，遇阻不宜急进，大事尚待时机成熟。得此卦者需要耐心等待，急进反会见凶。\"\n",
            "\n",
            "content:\"台湾国学大儒傅佩荣解\"\n",
            "summary:\"傅佩荣指出，需卦代表时机尚未成熟，需要耐心等待。对于财运、家宅、身体等方面也需要审时度势，耐心等待。\"\n",
            "\n",
            "content:\"传统解卦\"\n",
            "summary:\"需卦是异卦相叠，下卦是乾，刚健之意；上卦是坎，险陷之意。提醒人们，在此情况下，需要宜稳健之妥，不可冒失行动，观时待变，所往一定成功。这是一个需要审时度势，耐心等待的卦象，同时需要坚守中正，以化险为夷。\n",
            "II Content: 讼卦\n",
            "II Summary: 在《周易》中，讼卦是一个充满警示的卦象。它由上卦乾（天）下卦坎（水）相叠而成，表示天和水相互对立，引发纷争。这一卦象意味着虽然事情一开始可能顺利，但最终将面临凶险的局面。卜得此卦，有利于会见贵族王公，但不利于涉水渡河。\n",
            "\n",
            "讼卦在北宋易学家邵雍看来，表示天高水深，相互隔绝，劝人谨慎退守，避免争讼之事。得此卦者，宜修身养性，谨慎处事。而台湾国学大儒傅佩荣认为，此时运势势如愿以，各方面事情均不顺利，宜防小人加害，特别在财运上需谨慎行事。\n",
            "\n",
            "在传统解卦中，讼卦被认为不利于事业发展，表示起初虽有利可图，继而受挫，需要慎之又慎，不得固执已见，以免陷入争讼之中。在婚恋关系中，虽不尽如人意，但双方应以温和的方式处理生活。对于决策者来说，需要避免争强好胜，为改变命运而不择手段，而是应当谦虚接受教训，可望功成名就。\"\n",
            "II Content: 师卦\n",
            "II Summary: 在周易中，师卦是一个极具深意的卦象，它由两个异卦相叠组成：下卦坎（水）和上卦坤（地）。这一卦象代表“师”，即军队，寓意着兵力和农力的结合。在这里，坎卦象征着水和险难，而坤卦象征着地和顺从，暗示着通过将军事力量安置于民间，可以在必要时顺利调动。\n",
            "\n",
            "师卦的核心哲学是：虽然兵力代表着危险和战争，但其使用应当是圣人不得已而为之的最后手段。在正确的情况下，军事力量可以顺应形势，将危险转化为吉祥。因此，在军事策略上，此卦象征着出征将会顺利，无灾祸。\n",
            "\n",
            "师卦紧随讼卦（争讼卦），在《序卦》中解释为“讼必有众起，故受之以师”。这意味着争端激化至众多人群的参与，形成了类似军队的集体力量。\n",
            "\n",
            "以古代智者的智慧来解析，《师卦》更意味着重大决策的需求，需要借鉴大地收容万物的胸怀和坚定统帅众人的才智。\"\n",
            "\n",
            "interpretations:[\n",
            "    {\n",
            "        \"source\":\"断易天机\",\n",
            "        \"content\":\"《断易天机》解释：师卦坤上坎下，为坎宫归魂卦。师即兵众，只有选择德高望重的长者来统率军队，才能吉祥无咎。\"\n",
            "    },\n",
            "    {\n",
            "        \"source\":\"北宋易学家邵雍解\",\n",
            "        \"content\":\"北宋易学家邵雍解释：得此卦者，困难重重，忧心劳众，宜包容别人，艰苦努力，摒除一切困难。\"\n",
            "    },\n",
            "    {\n",
            "        \"source\":\"台湾国学大儒傅佩荣解\",\n",
            "        \"content\":\"台湾国学大儒傅佩荣解释：时运：包容别人，修行待时。财运：有财有库，善自珍惜。家宅：旧亲联姻，可喜可贺。身体：腹胀之症，调气无忧。\"\n",
            "    },\n",
            "    {\n",
            "        \"source\":\"传统解卦\",\n",
            "        \"content\":\"传统解卦认为，师卦代表着养兵聚众，出师攻伐之象，预示着困难重重。在事业上要以正规行事，忌独断独行、投机取巧，提防潜在敌人。经商上，要以刚毅顽强的精神和高尚的商业道德，辅以灵活的方法。对于婚恋，需要慎重、专注；决策上需要有正确的引导，务必严格要求自己，克服不利因素的干扰。\"\n",
            "    }\n",
            "II Content: {\n",
            "II Summary: {\n",
            "  \"content\": \"比卦\",\n",
            "  \"summary\": \"比卦是一个充满吉祥的卦象，它由下卦坤（地）和上卦坎（水）相叠组成。这一卦象代表着亲密相互依附的关系，长期相处将会吉利无误。占得此卦，预示着朝廷必将平安顺利，长期如此将会无灾祸。同时，不愿臣服的邦国迟迟不来朝，预示着后辈之人将会有凶险。比卦取象于水附大地，地纳江河之象，暗示着可以封建万国，亲近诸侯。\",\n",
            "  \"explanation\": \"比卦核心哲学是相亲相辅，宽宏无私，精诚团结的道理。传统解卦中指出，比邻相亲相辅，和乐之象。在运势上，预示着能够平顺并得到贵人的提拔，需要在行事中保持诚实与信任，以宽厚、正直的态度对待他人，在事业发展中，可以得到他人的帮助和辅佐。经商方面，也需要真诚交往，遵守商业道德。婚恋方面预示着美好姻缘，相亲相爱，彼此忠诚。\",\n",
            "  \"interpretations\": {\n",
            "    \"传统解卦\": {\n",
            "      \"大象\": \"一阳统五阴，比邻相亲相辅，和乐之象。\",\n",
            "      \"运势\": \"平顺，可得贵人提拔，凡事宜速战速决，不可过份迟疑。\",\n",
            "      \"事业\": \"顺利能够成功，向前发展，可以得到他人的帮助和辅佐，以诚实、信任的态度去做事。\",\n",
            "      \"经商\": \"愿望能够实现，且有较丰厚的利润，但需要与他人密切合作，真诚交往，讲究商业道德。\",\n",
            "      \"求名\": \"有成功的希望，不仅要靠个人的努力，更为重要的是他人的赏识和栽培。\",\n",
            "      \"婚恋\": \"美好姻缘，相亲相爱，彼此忠诚，白头到老。\",\n",
            "      \"决策\": \"心地善良，待人忠诚、厚道，乐于帮助他人。\"\n",
            "    }\n",
            "  }\n",
            "}\n",
            "``\n",
            "II Content: 坤卦\n",
            "II Summary: 坤卦，又称“元”卦，是八卦中的第二卦。它是由两个坤卦叠加而成的，象征大地之宽广，代表着顺从、承载和生育万物的阴性。坤卦中有“元、亨、利牝马之贞”的卦辞，意味着大吉大利，雌马得到吉兆。在旅行时，会先迷失方向，后来才找到主人，西南行会得朋友，东北行则丧失朋友。在安定定居方面也是吉利之兆。\n",
            "\n",
            "        坤卦的核心哲学是：顺应天道，以厚德载物。此卦象征着包容和柔顺，要以深厚的德行来承担重大责任。因此，它要求人们顺应运势，以静制动，不宜独立谋事，而应通过顺应他人，与人合作而成就大事。在时运、财运、家宅和身体等方面均吉祥。\n",
            "\n",
            "        传统解卦认为，坤卦象征大地承载万物，以德服众，强调诸事不宜急进，以静制动为宜。在事业、经商、求名、婚恋、决策等方面，都需要以柔克刚，稳健包容，不得急躁冒进，而应埋头苦干，充实自己的内在修养，尊重正道，谋求事业的成功。\"\n",
            "II Content: \n",
            "II Summary: \"乾卦\"\n",
            "summary: \"乾卦是《易经》六十四卦之首，由六个阳爻组成，象征天。在《断易天机》中解释为大通至正，需要行正道才能永远亨通。同时也寓意着天道刚健，运行不已，君子观此卦象，应自强不息。这一卦象代表着大吉大利，吉利的贞卜，预示名利双收之象，建议把握机会，争取成果，并提醒务须保持警惕和小心谨慎。\n",
            "\n",
            "乾卦的象辞为“天行健，君子以自强不息”，寓意着如飞龙在天，大吉大利，但也需要冷静警惕，切忌骄傲自满。在事业和经商方面，乾卦都预示着顺利发展的机会，但需要坚持商业道德和冷静应对困难。在求名和婚恋方面，都建议修德成君子，保持温和与刚健并重的态度。总的来说，乾卦象征着刚健、正直、公允的实质，建议修养德行，坚定信念，自强不息，必能克服困难，消除灾难。\"\n",
            "II Content: 履卦\n",
            "II Summary: 在周易卦象中，履卦是一组异卦相叠而成的卦象，上卦为乾，代表天；下卦为兑，代表泽。“履虎尾，不咥人”，象征踩到了老虎尾巴，但老虎却不伤人，预示着吉利之事。\n",
            "\n",
            "这一卦象显示了上天下泽的情景，君子观此卦象，应当明辨上下尊卑的原则，从而明确民众的志向，引导他们循规蹈矩，守纪律。\n",
            "\n",
            "履卦预示着需要小心谨慎，恪守礼节，方能化解危险，踏上前行之路。\n",
            "\n",
            "此卦又被解释为起初困难重重，劳苦后方能得安逸，务必谨慎小心，不可急进，待人以和，才能渐渐克服困难，最终取得成功。\n",
            "\n",
            "总的来说，履卦提示着在面临困境时，要踏实稳健，小心谨慎，追随实际情况，不可急于求成。务必恪守正道，虚心听取建议，量力而行，方能化险为夷，取得好的结果。\"\n",
            "II Content: 小畜卦\n",
            "II Summary: 小畜卦，是一卦象中显示吉利的卦象。在天上密云不雨的情况形成了卦象。上卦为巽，为风；下卦为乾，为天，和风拂地，草木低昂，勃勃滋生，这是小畜的卦象。君子观此卦象，取法催发万物的和风，自励风范，推行德教。寓意着力量有限，需要待发展到一定程度，才可大有作为。\"\n",
            "\n",
            "interpretation:\"小畜卦以巽宫初世卦，为小的蓄积、小的阻碍。阳盛而阴不足，暂时停顿，但终究还能亨通。力量寡弱，阻止前进；藏器待时，耐心推进。得此卦者，力量薄弱，运势反覆，宜蓄养实力，静待时机，急进则有险，凡事须耐心推进。时运平平无奇，受人牵制。财运表面不错，内多耗损。家宅小康，须防口舌；娶得淑女。身体风火之症；小孩吉，大人凶。运势反覆，有口舌之争，但难于短期内解决，须忍耐，静待时机。事业时机尚不成熟，应当耐心而积极地积存力量，切不可冒险行动。经商已有一定的基础，但有失去危险，必须特别慎重。求名树立远大目标，尽最大努力去争取，虚心求教他人，取得真诚帮助。婚恋双方必须十分忠诚，第三者插足的现象极有可能发生。决策不很顺利，前进途中会遇到意想不到的困难。但由于本人性格坚强，具有战胜不利条件的意志。因此，可以实理自己的理想。但会遭到小人的伤害，必须得到志同道合者的真诚相助，才能可能排除障碍。对所得应满足，适可而止，切不可过度追求，以免满招损。\"\n",
            "``\n",
            "II Content: 解卦\n",
            "II Summary: 在周易中，解卦是一个由震卦和坎卦组成的异卦相叠，上卦为震，下卦为坎。震为雷，为动；坎为水，为险。这一卦象暗示着险境之中的行动，象征着冬去春来，一切化解的局面。解卦代表着解除困难，脱离险境的意思。此卦多主吉，宜把握良机，快速处理困境，出外求谋，争取主动，但不可贪得无厌。\n",
            "\n",
            "解卦的核心哲学是：在元气初复的阶段，应当稳妥行事，不能冒险。宜以柔治理，广交贤者，远避小人，与君子相互依托共成事业。在商业上，应当行动迅速，按正道行事，切勿招摇过市，避免自招灾祸。\n",
            "\n",
            "从时运、财运、家庭、健康等方面来看，解卦都预示着灾难消除，状况好转，宜谨慎行事，避开小人，争取良机，力图早日脱离困境，求得发展。\"\n",
            "\n",
            "来源：\"《断易天机》、北宋易学家邵雍、台湾国学大儒傅佩荣\n",
            "II Content: 晋卦\n",
            "II Summary: 晋卦\"源自《周易》中的一卦，卦象由上卦离和下卦坤组成。离为日光，坤为大地。太阳高悬，照耀大地，寓意万物生长、光明磊落、事业蒸蒸日上。君子观此卦象，可从中体会到光大自身的光明之德。\n",
            "\n",
            "这一卦象象征着事业、名望、财运皆吉的吉兆，意味着晋升、进展、生机盎然。从整体运势来看，这是一个好运新来，一切都步步高升的时机。对于事业来说，顺利发展并且有望加官晋爵；对于经商来说，市场竞争顺利，虽然会遇到困难但可因势利导克敌制胜；至于求名、婚恋等方面，也同样具有吉利的趋势。\n",
            "\n",
            "总体而言，晋卦代表着正面的发展，要勇往直前，不得有丝毫犹豫不决，并且善于树立良好的人际关系，共同前进。\"\n",
            "II Content: 谦卦\n",
            "II Summary: 在周易中，谦卦是一个充满智慧的卦象，它由坤卦（地）与艮卦（山）相叠而成。这一卦象预示着通泰，同时提醒君子将有所成就。谦卦的核心在于内高外低，地卑而山高，寓意着功高不自居、名高不自誉、位高不自傲，要保持谦逊的品德。\n",
            "\n",
            "谦卦象征着裁取多余昀、增益缺乏，衡量财物的多寡而公平施予，是谦让与裨益的含义。在预测中，谦卦为吉利之卦，代表着谦逊、忍让和利用谦虚的态度，将会带来吉祥和顺利。\n",
            "\n",
            "传统解卦认为，谦卦所预示的是吉利平安，但需除去骄横之气。对于事业、经商、求名、婚恋等方面都提出了相应的建议，强调谦虚、埋头苦干的美德，也给予了积极的预测和忠告。\"\n",
            "II Content: 小过卦\n",
            "II Summary: 《小过卦》是周易卦象中极具深意的一种，由下卦艮（山）上卦震（雷）相叠而成。在这一卦象中，山上雷鸣的景象形成了“小过”，预示着小有超越之意。卦文中强调了亨通和利贞，并提示适宜小事而不适宜大事。飞鸟空中飞过，留下叫声在耳畔，提醒人们：登高会遇到危险，下行则吉利。\n",
            "\n",
            "    在《断易天机》中解释，小过卦为兑宫游魂卦，占得此卦，举事有利，可以举小事，不可举大事。在传统解卦中也指出，诸事不利，宜行小事，不宜做大事，更防因小过失造成惊动，招惹是非争讼。因此，小过卦的核心指导思想是行动宜谨慎小心，不可冒险，但要把握尺度，随机应变是关键。在事业、经商、求名、婚恋、决策等方面都需要应根据情况适时调整，不可固执己见。\n",
            "II Content: 遁卦\n",
            "II Summary: 遁卦\"是周易中的一卦，由上卦乾和下卦艮组成。乾象征天，艮象征山，天高山远，是遁卦的卦象。这一卦象暗示着通达且略有利益的占问。在此卦中，君子不用恶报恶的方法对付小人，而是采取严厉态度，远离小人并自甘退隐。\n",
            "\n",
            "遁卦的核心哲学是：在逢到小人欲制君子时，君子宜处于退避的状态。因此，得此卦者宜退守以保身，谨言慎行，待机行事。\n",
            "\n",
            "在运势方面，遁卦代表小人得势而君子处于退隐状态，宜退避不宜进，穷则独善其身，修身养性。时运不佳时宜退隐，但并非消极逃避，而是为了保留实力，待机而出。\n",
            "\n",
            "在事业上，应当考虑退隐，不与不正派的人同流合污。同时要谨慎行事，总结经验，把握时机，待机而出。不得被眼前的小利所诱惑。\n",
            "\n",
            "对于经商而言，市场进入衰落时，决不可盲目投入，而应储备实力，远离小人，等待时机。\n",
            "\n",
            "在婚恋与决策方面，也需要时机成熟时采取行动，坚守中正，待机而出，不可犹豫不决。\n",
            "\n",
            "\"遁卦\"是一卦，同时也是一种智慧，其内涵有着丰富的哲学内涵，值得我们深思和领悟。\n",
            "``\n",
            "II Content: 家人卦\n",
            "II Summary: 在周易卦象中，家人卦是一个与妇女相关的卦象，预示着对妇女的卜问会获得吉利的结果。该卦由上卦巽（风）和下卦离（火）组成，风助火势，火助风威，相辅相成，象征着家庭成员间的互助合作和事业的发展。君子观此卦象，领悟到言行应有实质内容和恒定的品德。\n",
            "\n",
            "家人卦预示着家庭和睦、和合，多主吉利。同时，也提醒要小心家庭事务中可能出现的意外情况。不论是事业、经商、求名还是婚恋，家庭和睦都是基础。要严格治家，防止后院意外，持家重在谦和待人，勤俭积蓄以致富，家人相互和睦、友好。\n",
            "\n",
            "总之，家人卦代表着内外呼应，家庭和睦对个人事业发展的重要性。\"\n",
            "\n",
            "reference:\"《断易天机》\n",
            "II Content: \n",
            "II Summary: \"节卦\"\n",
            "summary：\"节卦\"是周易中极具深意的卦象之一，由兑卦与坎卦组成，兑为泽，坎为水。泽中之水必须节制，以免泛滥，因此形成了\"节\"卦。在这个卦象中，显示出了节制与克制的重要性，君子观此卦象，应当建立政纲制度，确立伦理原则。\n",
            "\n",
            "在《断易天机》中解释，节卦代表着需要节制和节约，停止挥霍，才能够实现家庭的安宁和和谐。而北宋易学家邵雍解释则强调操守节度，适可而止，审时度势，能知变通。\n",
            "\n",
            "台湾国学大儒傅佩荣认为，得到\"节\"卦的人需要正派经营，守礼修身，才能名利双收，平安富裕。同时要注意节制饮食，保持身体健康。\n",
            "\n",
            "根据传统解卦的解释，\"节\"卦与涣卦相反，但又互为综卦，交相使用。天地有节度才能常新，国家有节度才能安稳，个人有节度才能完美。在运势、事业、经商、求名、婚恋等方面，都需要懂得节制，适可而止，否则将会适得其反，带来苦果。\n",
            "\n",
            "以上是关于\"节\"卦的深度解析，它在周易中承载着丰富的哲学内涵和实用的人生智慧\n",
            "II Content: 临卦\n",
            "II Summary: 临卦，是周易卦象中的一种，象征着大吉大利，吉利的卜问。然而在八月可能有凶险之事。其卦象为坤上兑下，堤岸高出大泽，河泽容于大地，意味着君临天下，教化万民，保容万民，德业无疆。这一卦代表着池泽之水灌溉地面万物，相辅相成，生生不息，意味着诸事亨通，上下和合，前途有望。然而，需注意不宜过于急进。\n",
            "\n",
            "临卦蕴含着好运来临，经营有成，家业正旺，疾病拖延但不致危险的时机。在事业上，正是成功的极好时机，务必抓紧，不可失去良机，但不可就此满足。在经商时，会十分顺利，并有收获，但应谨慎处理人际关系。在决策中，务必加强个人的全面修养，诚信待人，树立良好的个人威望，有远大的眼光，长久的计划，可以保证事业的发达和前程的光明。\n",
            "II Content: {\n",
            "II Summary: {\n",
            "  \"content\": \"豫卦\",\n",
            "  \"summary\": \"在豫卦中，上卦为震，下卦为坤，震为雷，坤为地。这是一个春雷轰鸣，大地震动的卦象。先王观此卦象，取法于雷鸣的响声，制作音乐，歌功颂德，光荣归于上帝，光荣归于祖考。因此，豫卦象征着建侯行师，出兵打仗，有利于封侯建国。在家运和疾病方面，凡事宜检点得失，否则招灾不利。在胎孕方面，生贵子，安而无灾。子女方面，亲子和睦，幸福圆满。在周转、买卖、等人、寻人、失物、外出、考试、诉讼、求事、改行、开业等方面都有吉利之象。\",\n",
            "  \"explanation\": \"震为雷，象征春雷使万物苏醒，君王之威行于子民。因此有利于建候、行师。在周易哲学中，豫卦的核心理念在于音乐的创作和歌功颂德。先王观豫卦象，取法于雷鸣的响声，制作音乐以歌颂德行，将光荣归于上帝和祖考，展现了豫卦所代表的崇德之道，借以彰显君王的威仪和领导能力。\",\n",
            "  \"judgement\": \"豫卦代表春雷轰鸣，大地震动的卦象，预示着兴盛发展之象，代表着封侯建国，出兵打仗，有利于行师出征。在家庭和个人疾病方面，警示着检点得失，不可胡为，否则招灾不利。而在胎孕、子女、周转、买卖、等人、寻人、失物、外出、考试、诉讼、求事、改行、开业等方面均预示着吉利之象。\",\n",
            "  \"image\": \"豫卦中，上卦为震，下卦为坤，形成震宫初世卦。这一卦象预示着春雷使万物苏醒，君王之威行于子民，因此有利于建候、行师。豫卦的形象是春雷催发萌芽，通向兴旺发达之象。\",\n",
            "  \"line_comment\": [\n",
            "    \"豫卦首出于《周易》。\",\n",
            "    \"豫卦中上卦为震，下卦为坤，震为雷，坤为地。\",\n",
            "    \"豫卦的核心理念在于音乐的创作和歌功颂德。\",\n",
            "    \"豫卦代表着封侯建国，出兵打仗，有利于行师出征。\",\n",
            "    \"豫卦在家庭和个人疾病方面，警示着检点得失，不可胡为，否则招灾不利。\",\n",
            "    \"在胎孕、子女、周转、买卖、等人、寻人、失物、外出、考试、诉讼、求事、改行、开业等方面，均预示着吉利之象。\"\n",
            "  ]\n",
            "}\n",
            "``\n"
          ]
        }
      ],
      "source": [
        "# 执行主函数\n",
        "main()"
      ]
    },
    {
      "cell_type": "code",
      "execution_count": null,
      "id": "7b2d3cb7-964f-4469-aae0-901328ea6df1",
      "metadata": {
        "id": "7b2d3cb7-964f-4469-aae0-901328ea6df1"
      },
      "outputs": [],
      "source": []
    },
    {
      "cell_type": "code",
      "execution_count": null,
      "id": "99ef5651-4b69-4370-ad5b-b479e042f336",
      "metadata": {
        "id": "99ef5651-4b69-4370-ad5b-b479e042f336"
      },
      "outputs": [],
      "source": []
    },
    {
      "cell_type": "code",
      "execution_count": null,
      "id": "ebc37c6c-1728-48d5-8e0e-31362c2b5d79",
      "metadata": {
        "id": "ebc37c6c-1728-48d5-8e0e-31362c2b5d79"
      },
      "outputs": [],
      "source": []
    },
    {
      "cell_type": "markdown",
      "id": "ea12d689-c371-452b-b5e7-3b70a9b3d0b8",
      "metadata": {
        "id": "ea12d689-c371-452b-b5e7-3b70a9b3d0b8"
      },
      "source": [
        "### 异常分析\n",
        "\n",
        "\n",
        "训练第一个 epoch 时，Training Loss 比较奇怪：\n",
        "\n",
        "```\n",
        "Step\tTraining Loss\n",
        "1\t3.594100\n",
        "2\t4.049100\n",
        "3\t3.091200\n",
        "4\t3.381700\n",
        "5\t3.547800\n",
        "6\t2.610200\n",
        "7\t2.657900\n",
        "8\t3.163900\n",
        "```\n",
        "\n",
        "通过解析 GPT-3.5-Turbo-1106 生成结果发现问题"
      ]
    },
    {
      "cell_type": "code",
      "execution_count": null,
      "id": "8408c88d-c81e-4f5f-837c-5d157dd1b37f",
      "metadata": {
        "id": "8408c88d-c81e-4f5f-837c-5d157dd1b37f"
      },
      "outputs": [],
      "source": [
        "def gen_data(raw_content):\n",
        "    \"\"\"\n",
        "    使用LangChain GPT-3.5调用处理单个数据样例。\n",
        "\n",
        "    :param raw_content: 原始数据样例。\n",
        "    :return: GPT-3.5模型生成的内容。\n",
        "    \"\"\"\n",
        "    # 系统消息定义背景和任务\n",
        "    system_message = SystemMessage(\n",
        "        content=\"\"\"\n",
        "        你是中国古典哲学大师，尤其擅长周易的哲学解读。\n",
        "\n",
        "        接下来，你收到的都是关于周易卦象的解释，你需要整理润色，并生成用于大模型训练的内容和格式。\n",
        "\n",
        "        示例输入：\n",
        "\n",
        "        师卦，此卦是异卦相叠，下卦为坎，上卦为坤。“师”指军队。坎为水、为险；坤为地、为顺，喻寓兵于农。兵凶战危，用兵乃圣人不得已而为之，但它可以顺利无阻碍地解决矛盾，因为顺乎形势，师出有名，故能化凶为吉。占得此卦，对于军事上率师出征非常有利，必无灾祸。师卦是天马出群之卦，以寡伏众之象。\n",
        "        师卦位于讼卦之后，《序卦》之中这样解释道：“讼必有众起，故受之以师。师者，众也。”争讼的人越来越多，以致形成了军队。\n",
        "\n",
        "        期待结果：\n",
        "\n",
        "        content:\"师卦\"\n",
        "        summary:\"在周易中，师卦是一个极具深意的卦象，它由两个异卦相叠组成：下卦坎（水）和上卦坤（地）。这一卦象代表“师”，即军队，寓意着兵力和农力的结合。在这里，坎卦象征着水和险难，而坤卦象征着地和顺从，暗示着通过将军事力量安置于民间，可以在必要时顺利调动。\n",
        "\n",
        "        师卦的核心哲学是：虽然兵力代表着危险和战争，但其使用应当是圣人不得已而为之的最后手段。在正确的情况下，军事力量可以顺应形势，将危险转化为吉祥。因此，在军事策略上，此卦象征着出征将会顺利，无灾祸。\n",
        "\n",
        "        师卦紧随讼卦（争讼卦），在《序卦》中解释为“讼必有众起，故受之以师”。这意味着争端激化至众多人群的参与，形成了类似军队的集体力量。\"\n",
        "\n",
        "        返回格式要求：\n",
        "        content:\"{卦名}\"\n",
        "        summary:\"{内容}\"\n",
        "        \"\"\"\n",
        "    )\n",
        "\n",
        "    # 人类消息包含原始数据样例\n",
        "    human_message = HumanMessage(\n",
        "        content=raw_content\n",
        "    )\n",
        "\n",
        "    # 构建消息列表并进行模型调用\n",
        "    messages = [system_message, human_message]\n",
        "    ai_message = chat(messages)\n",
        "\n",
        "    return ai_message.content"
      ]
    },
    {
      "cell_type": "code",
      "execution_count": null,
      "id": "9fbb1ac5-0f0d-4dd8-ae4b-39227a606bf2",
      "metadata": {
        "colab": {
          "base_uri": "https://localhost:8080/"
        },
        "id": "9fbb1ac5-0f0d-4dd8-ae4b-39227a606bf2",
        "outputId": "83355f3b-15b6-4fb1-da64-9d20ce63e3bb"
      },
      "outputs": [
        {
          "name": "stdout",
          "output_type": "stream",
          "text": [
            "Content: 蒙卦\n",
            "Summary: 在周易中，蒙卦代表着通泰。它由艮卦（山）上卦坎卦（水）组成，暗示山下有泉的景象。这个卦象意味着初次卜筮即可获得神灵指示，但如果持续轻慢不敬地卜筮，神灵将不再指示。尽管如此，卜问仍然是吉利的。上卦艮象征着山，下卦坎象征着泉水，山下有泉喷涌，寓意蒙卦。君子观此卦象，取法于一往无前的山泉，以果敢坚毅的行动来培养自身的品德。\n",
            "\n",
            "蒙卦的运势初时迷惑不知方向，须忍耐待机而动，凡事多听取别人意见，则运可通。在事业开始阶段，需要勇敢坚毅的行动以扭转局面，同时接受严格教育，脚踏实地，避免好高骛远。在经商过程中，务必小心谨慎，树立高尚的商业道德。在求名过程中，需要接受良好的基础教育，陶冶情操。婚恋方面则需要注意对方品德，夫妻需相互宽容、理解。在决策中，如能接受长辈的教诲，甚至严酷的考验，抛弃疑惧的心理，等待适当时机，必然一帆风顺。\n",
            "Content: 屯卦\n",
            "Summary: 在周易中，屯卦是一个很有深意的卦象，它由下卦震（雷）和上卦坎（水）相叠组成。这一卦象预示着困难和危险，需要坚毅果敢才能化解，并且隐含着在劳苦之后必有美好结果的含义。\n",
            "\n",
            "屯卦的核心哲学是：在万物始生之时，困难和艰难必将出现，但只有经过辛苦努力和坚守，才能克服困难，通达于事。此卦提醒人们须守时而行，须多加辛苦努力，排除困难，方能化解险境，通达美好。\n",
            "\n",
            "在运势上，此卦意味着身处困境，需要步步为营，但随之而来的是初难后解的转机。在事业上，则需要勇往直前，灵活机动，克服困难才能获得成功，但也需要他人相助。在求名、婚恋等方面，同样需要坚忍不拔的毅力和勇气，但最终将获得成功。\n",
            "\n",
            "总之，屯卦在周易中是一个充满着困难与挑战，但同时也带来着希望和转机的卦象。\n",
            "Content: 需卦\n",
            "Summary: 在周易中，需卦代表着捕捉俘虏的意涵。这是一个大吉大利的卦象，吉利的占卜问题有利于涉水渡河。\n",
            "\n",
            "需卦的上卦为坎，象征着云；下卦为乾，代表天。云浮聚于天上，待时降雨，这正是需卦的卦象所要表达的。君子观此卦象，可以放心享受饮食宴乐，待时而动。\n",
            "\n",
            "从《断易天机》来看，需卦的核心是踌躇和期待，虽然内心坚强，但前方有险阻，因此需要等待，涉大川则会获利。\n",
            "\n",
            "关于时运、财运、家宅和身体等方面的解释也都强调时机尚未成熟，需要耐心等待，并且不要冒险。而在传统解卦中，也强调了宜稳健之妥，不可冒失行动，一定要观时待变，耐心等待，才会取得成功。总的来说，需卦提示智者必须待时而行，急进反见凶险。因此，在事业、经商、求名、婚恋以及决策等方面，都需要审时度势，谨慎行事，等待时机，方能顺利成功，而且大器晚成。\n",
            "Content: 讼卦\n",
            "Summary: 在《周易》中，讼卦是由乾卦上卦和坎卦下卦相叠而成。乾为刚健，坎为险陷，二者相遇必然产生争端。讼卦虽有利可图，但需要警惕戒惧，事情起初顺利，中间吉利，终凶险。占得此卦，有利于会见贵族王公，但不利于涉水渡河。讼卦的核心哲学是，事情正途被阻，需要慎重处事，谨慎处理争端，宜退而让人，求得化解，安于正理，可免除意外之灾。此卦不利于决策、求名，但可在决策上接受教训，引以为戒。在感情方面，双方应以温和的方式处理生活，相互理解，未尽人意但可相配。\n",
            "Content: 师卦\n",
            "Summary: 在周易中，师卦是一个极具深意的卦象，它由两个异卦相叠组成：下卦坎（水）和上卦坤（地）。这一卦象代表“师”，即军队，寓意着兵力和农力的结合。在这里，坎卦象征着水和险难，而坤卦象征着地和顺从，暗示着通过将军事力量安置于民间，可以在必要时顺利调动。\n",
            "\n",
            "师卦的核心哲学是：虽然兵力代表着危险和战争，但其使用应当是圣人不得已而为之的最后手段。在正确的情况下，军事力量可以顺应形势，将危险转化为吉祥。因此，在军事策略上，此卦象征着出征将会顺利，无灾祸。\n",
            "\n",
            "师卦紧随讼卦（争讼卦），在《序卦》中解释为“讼必有众起，故受之以师”。这意味着争端激化至众多人群的参与，形成了类似军队的集体力量。\n",
            "\n",
            "根据《象辞》，师卦的卦象是地中有水，暗示着君子应当像大地一样，容纳和畜养大众，取法于大地的包容性和收纳能力。\n",
            "\n",
            "而从《断易天机》、北宋易学家邵雍解、台湾国学大儒傅佩荣解来看，师卦暗示着困难重重，需要公正无私，排除万难，包容别人，艰苦努力，摒除一切困难。对于财运、家宅、身体、求名、婚恋等方面，也给出了相应的解释。\n",
            "\n",
            "总体来说，师卦代表着困难重重的情况，需要正规行事、与他人合作、谨小慎微、行为果断，以及保全自己的重要性。在挑战和竞争中，以中正、老成持重的态度，适度而行，必能取得成功。\n",
            "Content: 比卦\n",
            "Summary: 在周易中，比卦是一个吉利之卦。它暗示着再次进行卜筮依然是大吉大利的，同时也预示长期的吉凶都不会有灾祸。然而，当有不愿臣服的邦国迟迟不来朝时，可能会有难。\n",
            "\n",
            "比卦的卦象为坤上坎下，坤象征大地，坎象征水。这象征着地上有水，地纳江河之象，意味着地和水相亲相依，亲密无间。先王观此卦象，取法于水附大地，地纳江河之象，封建万国，亲近诸侯。\n",
            "\n",
            "比卦与师卦互为综卦，代表着相亲相辅，宽宏无私，精诚团结的道理。在运势上，预示着平顺，可得贵人提拔，凡事宜速战速决，不可过份迟疑。事业上则预示着顺利能够成功，可以得到他人的帮助和辅佐，待人宽厚、正直，主动热情，向才德高尚的人士学习，听取建议。在家宅、身体、求名、婚恋和决策等方面都有着相应的象征和意义。\n",
            "Content: 坤卦\n",
            "Summary: 在周易中，坤卦是一卦象，表示大地的顺势吉利。它由两个坤卦叠在一起组成，代表着柔顺和顺从的本质。坤卦象征着大地，代表着顺应天道，滋养万物，无穷无尽地伸展。在占卦时，预示着雌马的贞吉，君子前去旅行，先会迷失方向，后来会找到正确的路线和主人，取得吉利。向西南行会得到朋友，向东北行则丧失朋友。总体来说，坤卦预示着定居会获得吉兆。\n",
            "坤卦的核心哲学是：依随天道，顺应形势，保持柔顺和安顺。大地之形态给予启示，君子应取法于大地，以深厚的德行来承担重大的责任。\n",
            "总的来说，坤卦代表着柔顺和顺应的原则，需要在柔顺中坚守，谨言慎行，不可冒险急进，需静制动，等待正确的机会。对于事业而言，需要借助他人的力量，共同完成事业，不可孤军作战。对于人际交往和婚姻则有利，而在决策和行动中，需要以诚实、温和、忠厚的品德为基础，以待人真诚，热心助人为原则。\n",
            "Content: 乾卦\n",
            "Summary: 在周易中，乾卦代表着大吉大利，吉利的贞卜。它是由六个阳爻组成的卦象，象征着天之刚健，运行不已。君子观此卦象，从而以天为法，自强不息。乾象征天，行势刚健，大通而至正，展示了永远亨通的机遇，但需行正道方可获得长久的通达。乾卦预示着名利双收，需要把握机会，争取成果。在事业、经商、求名和婚恋方面，都显示出大吉大利的趋势，但也提醒着要小心谨慎，保持平和心境和坚定信念。\n"
          ]
        }
      ],
      "source": [
        "# 执行主函数\n",
        "main()"
      ]
    }
  ],
  "metadata": {
    "colab": {
      "provenance": []
    },
    "kernelspec": {
      "display_name": "Python 3 (ipykernel)",
      "language": "python",
      "name": "python3"
    },
    "language_info": {
      "codemirror_mode": {
        "name": "ipython",
        "version": 3
      },
      "file_extension": ".py",
      "mimetype": "text/x-python",
      "name": "python",
      "nbconvert_exporter": "python",
      "pygments_lexer": "ipython3",
      "version": "3.11.5"
    }
  },
  "nbformat": 4,
  "nbformat_minor": 5
}
